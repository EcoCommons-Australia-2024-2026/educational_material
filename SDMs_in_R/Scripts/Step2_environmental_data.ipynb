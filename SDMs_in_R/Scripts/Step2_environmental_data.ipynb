{
    "cells": [
        {
            "cell_type": "markdown",
            "metadata": {},
            "source": [
                "# this is a soil wetness index from 2013 downloaded from the EcoCommons site \n",
                "# https://api.data-ingester.app.ecocommons.org.au/api/data/69b045b3-29d1-5068-a5e6-f0783c68c1b8/download/awap_run26j_2013_ann-TempMin.tif\n",
                "# Simply enter the above url, download the file, and load it from the directory path you saved it\n",
                "#- ideally you would match the time the layer was made to the time \n",
                "# your occurrence data was collected, and you might average over the last ten years, but this is just an example of the kinds of data you can use\n",
                "# the EcoCommons point-and-click environment does this for you when in the SDM workflow\n",
                "#you can select to make all the variables the finest or coarsest resolution\n",
                "\n",
                "# Environmental data\n"
            ]
        },
        {
            "cell_type": "code",
            "execution_count": null,
            "metadata": {},
            "outputs": [],
            "source": [
                "library(raster)\n",
                "require(rgdal)\n",
                "\n",
                "direct<- \"/Users/s2992269/Documents/Use_cases\"\n",
                "folder <- \"/SDM_in_R\"\n",
                "\n",
                "#this sets your working director for all subsequent chunks of code in your R Markdown script\n",
                "knitr::opts_knit$set(root.dir = paste0(direct,folder))\n",
                "\n",
                "# if you are not working R Markdown, simply use this instead\n",
                "# setwd(paste0(direct,folder))\n"
            ]
        },
        {
            "cell_type": "markdown",
            "metadata": {},
            "source": [
                "# or use if not using Markdown setwd(paste0(direct,folder))\n",
                "\n"
            ]
        },
        {
            "cell_type": "code",
            "execution_count": null,
            "metadata": {},
            "outputs": [],
            "source": [
                "AWAP1<-raster(\"raw_data/awap_WRel1End.tif\")\n",
                "plot(AWAP1)\n",
                "AWAP1\n",
                "\n",
                "base <- raster(\"data/base_LiPe.asc\")\n",
                "crs(base) <- \"+proj=longlat +datum=WGS84 +no_defs\"\n"
            ]
        },
        {
            "cell_type": "markdown",
            "metadata": {},
            "source": [
                "# reduce the resolution of this layer on soil wetness, and match the extent of base\n",
                "# note there are a variety of ways to this. In some cases these decisions on how \n",
                "# to reduce or increase resolution matter to the result.  Often the defaults are fine.\n",
                "# know your data, and dig deeper into the methods underlying these functions\n",
                "#try typing \n",
                "# ??raster::projectRaster\n"
            ]
        },
        {
            "cell_type": "code",
            "execution_count": null,
            "metadata": {},
            "outputs": [],
            "source": [
                "AWAP2 <-projectRaster(AWAP1,base)\n",
                "AWAP3<- mask(AWAP2,base)\n",
                "plot(AWAP3)\n",
                "\n",
                "AWAP <- AWAP3\n"
            ]
        },
        {
            "cell_type": "markdown",
            "metadata": {},
            "source": [
                "#now we want to be sure the name of the variable AWAP is the same in memory, and in a folder\n",
                "# full of all predictors so we can predict our fitted model into the entire area\n",
                "# possibly using other point occurrence data (independent data)\n",
                "\n",
                "# use write raster to save files locally\n",
                "\n",
                "# writeRaster(AWAP,\"predictors/AWAP.asc\")\n",
                "# writeRaster(AWAP,\"predictors_future/AWAP.asc\")\n",
                "\n",
                "# Lets now upload the Vegetation classification layer NVIS from EcoCommons\n",
                "# https://api.data-ingester.app.ecocommons.org.au/api/data/ffcf7885-95e0-5873-8178-4a5ecc14123b/download/nvis-2020-90m_aus6_0e_mvg_amvg.tif\n"
            ]
        },
        {
            "cell_type": "code",
            "execution_count": null,
            "metadata": {},
            "outputs": [],
            "source": [
                "NVIS1<-raster(\"raw_data/nvis-2020-90m_aus6_0e_mvg_amvg.tif\")\n",
                "\n"
            ]
        },
        {
            "cell_type": "markdown",
            "metadata": {},
            "source": [
                "# each grid cell value should correspond to one of these categegories\n",
                "# https://www.awe.gov.au/sites/default/files/env/pages/ba1d4b30-d46f-42f7-bec2-fac391f26072/files/mvsg60-sort-order.pdf\n"
            ]
        },
        {
            "cell_type": "code",
            "execution_count": null,
            "metadata": {},
            "outputs": [],
            "source": [
                "freq(NVIS1)\n",
                "freq(NVIS1,value=44)\n"
            ]
        },
        {
            "cell_type": "markdown",
            "metadata": {},
            "source": [
                "# habitat of frog https://environment.des.qld.gov.au/wildlife/animals/a-z/striped-marsh-frog\n",
                "# it is hard to see one of these classes being super helpful, class 44 freshwater did not return anything\n",
                "# if we did use it we need to be careful changing the resolution because these are categorical variables \n",
                "# (use nearest neighbor when changing resolution)\n",
                "\n",
                "# Randome useful tidbit\n",
                "# A handy function to clip points to a polygon\n",
                "# clipped points <- spatial_point_file[polygon_file, ]\n",
                "\n",
                "# get a wetland file. The steps below might not work, alternatively load wet_cov.asc file from the scripts folder https://github.com/EcoCommons-Australia/educational_material/blob/main/SDMs_in_R/Scripts/wet_cov.asc\n",
                "# these steps take too long to run here, so we supply the wetland layer, steps are below\n",
                "# download an Australia wetland shapefile from here\n",
                "# https://ecat.ga.gov.au/geonetwork/srv/eng/catalog.search#/metadata/83135\n",
                "# select a 0.1 degree grid that covers Australia\n",
                "# read in Wetland polygones\n",
                "# wetland <- st_read(\"SurfaceHydrologyPolygonsNational.gdb\")\n",
                "# then turn polygons into raster\n",
                "# the argument getCover in the rasterize function calculates the area of each cell covered by wetland\n",
                "# wet_cov <- rasterize(wetland,Point1_degree_grid,getCover = TRUE)\n",
                "# for this variable it would have made more sense to source a polygon layer of freshwater only wetland\n"
            ]
        },
        {
            "cell_type": "code",
            "execution_count": null,
            "metadata": {},
            "outputs": [],
            "source": [
                "# here we are simply going to download the wet_cov.asc\n",
                "wet_cov <- raster(\"https://drive.google.com/file/d/1mUWoc7f8nuSw4cmdwsxiWwt5gdXVohOb/view?usp=sharing\")\n"
            ]
        },
        {
            "cell_type": "markdown",
            "metadata": {},
            "source": [
                "\n",
                "\n"
            ]
        },
        {
            "cell_type": "code",
            "execution_count": null,
            "metadata": {},
            "outputs": [],
            "source": [
                "wetland1 <- raster('raw_data/wet_cov.asc')\n",
                "crs(wetland1) <- \"+proj=longlat +datum=WGS84 +no_defs\"\n",
                "wetland2 <-projectRaster(wetland1,base)\n",
                "wetland3<- mask(wetland2,base)\n",
                "plot(wetland3)\n"
            ]
        },
        {
            "cell_type": "markdown",
            "metadata": {},
            "source": [
                "# Here we use the focal function (a neighborhood function) to transform each grid cell\n",
                "# value to the sum of the central cell and all cells 5 cells away surrounding that central cell\n",
                "# this is a surrogate of connectivity, isolated wetlands will have lower values\n"
            ]
        },
        {
            "cell_type": "code",
            "execution_count": null,
            "metadata": {},
            "outputs": [],
            "source": [
                "wetland_connectivity <- focal(wetland3, w=matrix(1, nrow = 11, ncol = 11),fun=sum,na.rm=TRUE)\n",
                "plot(wetland_connectivity)\n"
            ]
        },
        {
            "cell_type": "markdown",
            "metadata": {},
            "source": [
                "# Write rasters if needed\n",
                "# writeRaster(wetland_connectivity,\"predictors/wetland_connectivity.asc\")\n",
                "# writeRaster(wetland_connectivity,\"predictors_future/wetland_connectivity.asc\")\n",
                "\n",
                "# data comes in many formats, and uploading often requires different mehtods\n",
                "# NetSDF files are increasingly common, below is a sript to bring in that file type\n",
                "\n",
                "#require(sf)\n",
                "#require(ncdf4)\n",
                "#require(rasterVis)\n",
                "#require(raster)\n",
                "\n",
                "# MXtemp <- brick(\"Terraclim_EY_NSW.nc\", varname=\"tmax\") # this NetCDF file includes many \n",
                "#days of maximum temperature data with that subset of data having the varname = \"tmax\"\n",
                "# MXtemp_mean <- mean(MXtemp) # if we just want one layer which is the mean of those daily totals\n",
                "\n",
                "# we will now download a vegetation greenness index from EcoCommons\n",
                "#https://api.data-ingester.app.ecocommons.org.au/api/data/34ab5ea6-650f-503f-9446-88d0ae9effe1/download/ndlc-2004-250m_trend-evi-mean.tif\n"
            ]
        },
        {
            "cell_type": "code",
            "execution_count": null,
            "metadata": {},
            "outputs": [],
            "source": [
                "EVI1<- raster(\"https://api.data-ingester.app.ecocommons.org.au/api/data/34ab5ea6-650f-503f-9446-88d0ae9effe1/download/ndlc-2004-250m_trend-evi-mean.tif\")\n",
                "\n"
            ]
        },
        {
            "cell_type": "markdown",
            "metadata": {},
            "source": [
                "# process it as previous layers\n",
                "\n"
            ]
        },
        {
            "cell_type": "code",
            "execution_count": null,
            "metadata": {},
            "outputs": [],
            "source": [
                "EVI2 <-projectRaster(EVI1,base)\n",
                "EVI3<- mask(EVI2,base)\n",
                "plot(EVI3)\n",
                "EVI <- EVI3\n"
            ]
        },
        {
            "cell_type": "markdown",
            "metadata": {},
            "source": [
                "# write rasters \n",
                "# writeRaster(EVI,\"predictors/EVI.asc\")\n",
                "# writeRaster(EVI,\"predictors_future/EVI.asc\")\n",
                "\n",
                "# Here we just show how to bring in current and future data from EcoCommons\n",
                "\n",
                "# after looking at correlations between bioclim variables this one was dropped\n",
                "#Bioclim01_1 <- raster(\"https://api.data-ingester.app.ecocommons.org.au/api/data/90317596-ddef-5666-91c5-9cbc25c24fbc/download/current_1976-2005_bioclim-01.tif\")\n",
                "#Bioclim01_2 <-projectRaster(Bioclim01_1,base)\n",
                "#Bioclim01_3 <- mask(Bioclim01_2 ,base)\n",
                "#plot(Bioclim01_3)\n",
                "#Bioclim01 <- Bioclim01_3\n",
                "#writeRaster(Bioclim01,\"predictors/Bioclim01.asc\")\n",
                "\n",
                "# we will not write the bioclim data to the predictions_future folder because\n",
                "# we have separate future climate predictions we can use.  We do not have future\n",
                "# predictions for EVI or Wetlands so we are assuming those things will stay the same\n",
                "# in the future, the names of the future variables need to be the same as the\n",
                "# current time variable names in order for the predict function to work, so just\n",
                "# be sure to keep the different variables with the same name in different folders.\n"
            ]
        },
        {
            "cell_type": "code",
            "execution_count": null,
            "metadata": {},
            "outputs": [],
            "source": [
                "Bioclim05_1 <- raster(\"https://api.data-ingester.app.ecocommons.org.au/api/data/cc081daa-f524-58c2-939e-166a2b2e79eb/download/current_1976-2005_bioclim-05.tif\")\n",
                "Bioclim05_2 <-projectRaster(Bioclim05_1,base)\n",
                "Bioclim05_3 <- mask(Bioclim05_2 ,base)\n",
                "plot(Bioclim05_3)\n",
                "Bioclim05 <- Bioclim05_3\n"
            ]
        },
        {
            "cell_type": "markdown",
            "metadata": {},
            "source": [
                "# writeRaster(Bioclim05,\"predictors/Bioclim05.asc\")\n",
                "\n"
            ]
        },
        {
            "cell_type": "code",
            "execution_count": null,
            "metadata": {},
            "outputs": [],
            "source": [
                "Bioclim06_1 <- raster(\"https://api.data-ingester.app.ecocommons.org.au/api/data/476e4343-99f2-578e-b44a-951a55c6b7c2/download/current_1976-2005_bioclim-06.tif\")\n",
                "Bioclim06_2 <-projectRaster(Bioclim06_1,base)\n",
                "Bioclim06_3 <- mask(Bioclim06_2,base)\n",
                "plot(Bioclim06_3)\n",
                "Bioclim06 <- Bioclim06_3\n"
            ]
        },
        {
            "cell_type": "markdown",
            "metadata": {},
            "source": [
                "# writeRaster(Bioclim06,\"predictors/Bioclim06.asc\")\n",
                "\n"
            ]
        },
        {
            "cell_type": "code",
            "execution_count": null,
            "metadata": {},
            "outputs": [],
            "source": [
                "Bioclim12_1 <- raster(\"https://api.data-ingester.app.ecocommons.org.au/api/data/b2d70413-6b74-5366-b5d5-82ed919ded93/download/current_1976-2005_bioclim-12.tif\")\n",
                "Bioclim12_2 <-projectRaster(Bioclim12_1,base)\n",
                "Bioclim12_3 <- mask(Bioclim12_2,base)\n",
                "plot(Bioclim12_3)\n",
                "Bioclim12 <- Bioclim12_3\n"
            ]
        },
        {
            "cell_type": "markdown",
            "metadata": {},
            "source": [
                "# writeRaster(Bioclim12,\"predictors/Bioclim12.asc\")\n",
                "\n"
            ]
        },
        {
            "cell_type": "code",
            "execution_count": null,
            "metadata": {},
            "outputs": [],
            "source": [
                "rm(Bioclim05_1,Bioclim05_2,Bioclim05_3,Bioclim06_1,Bioclim06_2,Bioclim06_3,Bioclim12_1,Bioclim12_2,Bioclim12_3)\n",
                "\n"
            ]
        },
        {
            "cell_type": "markdown",
            "metadata": {},
            "source": [
                "# after looking at correlations between bioclim variables this one was dropped\n",
                "#Bioclim14_1 <- raster(\"https://api.data-ingester.app.ecocommons.org.au/api/data/e64dfa1d-ece8-50e7-9ed1-d603bfb7a101/download/current_1976-2005_bioclim-14.tif\")\n",
                "#Bioclim14_2 <-projectRaster(Bioclim14_1,base)\n",
                "#Bioclim14_3 <- mask(Bioclim14_2 ,base)\n",
                "#plot(Bioclim14_3)\n",
                "#Bioclim14 <- Bioclim14_3\n",
                "#writeRaster(Bioclim14,\"predictors/Bioclim14.asc\")\n",
                "\n",
                "\n",
                "#create a raster stack of current data, be careful not to include the future variables below in this stack (they have the same names)\n"
            ]
        },
        {
            "cell_type": "code",
            "execution_count": null,
            "metadata": {},
            "outputs": [],
            "source": [
                "preds_current <- stack(AWAP,wetland_connectivity,EVI,Bioclim05,Bioclim06,Bioclim12)\n",
                "plot(preds_current)\n",
                "names(preds_current)\n",
                "preds_current2 <- setNames(preds_current,c(\"AWAP\",\"wetland_connectivity\",\"EVI\",\"Bioclim05\",\"Bioclim06\",\"Bioclim12\"))\n",
                "names(preds_current2)\n",
                "\n",
                "rm(preds_current)\n"
            ]
        },
        {
            "cell_type": "markdown",
            "metadata": {},
            "source": [
                "#Repeat with future climate data, from EcoCommons\n",
                "# Australia, Climate Projection, SRESA1B based on INM-CM30, 30 arcsec (~1km) - 2085\n",
                "\n",
                "# after looking at correlations between bioclim variables this one was dropped\n",
                "#Bioclim01_1 <- raster(\"https://api.data-ingester.app.ecocommons.org.au/api/data/4e5534eb-c743-52af-a9c3-d137df8ba8c1/download/SRESA1B_inm-cm30_2085_bioclim-01.tif\")\n",
                "#Bioclim01_2 <-projectRaster(Bioclim01_1,base)\n",
                "#Bioclim01_3 <- mask(Bioclim01_2 ,base)\n",
                "#plot(Bioclim01_3)\n",
                "#Bioclim01 <- Bioclim01_3\n",
                "#writeRaster(Bioclim01,\"predictors_future/Bioclim01.asc\")\n"
            ]
        },
        {
            "cell_type": "code",
            "execution_count": null,
            "metadata": {},
            "outputs": [],
            "source": [
                "Bioclim05_1 <- raster(\"https://api.data-ingester.app.ecocommons.org.au/api/data/34fe63e3-4152-5406-96f7-dd67f54be5f5/download/SRESA1B_inm-cm30_2085_bioclim-05.tif\")\n",
                "Bioclim05_2 <-projectRaster(Bioclim05_1,base)\n",
                "Bioclim05_3 <- mask(Bioclim05_2,base)\n",
                "plot(Bioclim05_3)\n",
                "Bioclim05 <- Bioclim05_3\n"
            ]
        },
        {
            "cell_type": "markdown",
            "metadata": {},
            "source": [
                "# writeRaster(Bioclim05,\"predictors_future/Bioclim05.asc\")\n",
                "\n"
            ]
        },
        {
            "cell_type": "code",
            "execution_count": null,
            "metadata": {},
            "outputs": [],
            "source": [
                "Bioclim06_1 <- raster(\"https://api.data-ingester.app.ecocommons.org.au/api/data/36cf3700-d238-511c-bb8b-bc3c3677309d/download/SRESA1B_inm-cm30_2085_bioclim-06.tif\")\n",
                "Bioclim06_2 <-projectRaster(Bioclim06_1,base)\n",
                "Bioclim06_3 <- mask(Bioclim06_2,base)\n",
                "plot(Bioclim06_3)\n",
                "Bioclim06 <- Bioclim06_3\n"
            ]
        },
        {
            "cell_type": "markdown",
            "metadata": {},
            "source": [
                "# writeRaster(Bioclim06,\"predictors_future/Bioclim06.asc\")\n",
                "\n"
            ]
        },
        {
            "cell_type": "code",
            "execution_count": null,
            "metadata": {},
            "outputs": [],
            "source": [
                "Bioclim12_1 <- raster(\"https://api.data-ingester.app.ecocommons.org.au/api/data/449cee85-5f6a-5b25-aca8-0fd2838be09f/download/SRESA1B_inm-cm30_2085_bioclim-12.tif\")\n",
                "Bioclim12_2 <-projectRaster(Bioclim12_1,base)\n",
                "Bioclim12_3 <- mask(Bioclim12_2,base)\n",
                "plot(Bioclim12_3)\n",
                "Bioclim12 <- Bioclim12_3\n"
            ]
        },
        {
            "cell_type": "markdown",
            "metadata": {},
            "source": [
                "# writeRaster(Bioclim12,\"predictors_future/Bioclim12.asc\")\n",
                "\n"
            ]
        },
        {
            "cell_type": "code",
            "execution_count": null,
            "metadata": {},
            "outputs": [],
            "source": [
                "rm(Bioclim05_1,Bioclim05_2,Bioclim05_3,Bioclim06_1,Bioclim06_2,Bioclim06_3,Bioclim12_1,Bioclim12_2,Bioclim12_3)\n",
                "\n"
            ]
        },
        {
            "cell_type": "markdown",
            "metadata": {},
            "source": [
                "# after looking at correlations between bioclim variables this one was dropped\n",
                "#Bioclim14_1 <- raster(\"https://api.data-ingester.app.ecocommons.org.au/api/data/178ee1bc-0aa1-58a0-abaf-ff5e19fcf363/download/SRESA1B_inm-cm30_2085_bioclim-14.tif\")\n",
                "#Bioclim14_2 <-projectRaster(Bioclim14_1,base)\n",
                "#Bioclim14_3 <- mask(Bioclim14_2 ,base)\n",
                "#plot(Bioclim14_3)\n",
                "#Bioclim14 <- Bioclim14_3\n",
                "#writeRaster(Bioclim14,\"predictors_future/Bioclim14.asc\")\n",
                "\n",
                "#again just be sure to run this in order so you are not getting current bioclim data mixed with the future data which has the same name\n"
            ]
        },
        {
            "cell_type": "code",
            "execution_count": null,
            "metadata": {},
            "outputs": [],
            "source": [
                "preds_future <- stack(AWAP,wetland_connectivity,EVI,Bioclim05,Bioclim06,Bioclim12)\n",
                "names(preds_future)\n",
                "preds_future2 <- setNames(preds_current,c(\"AWAP\",\"wetland_connectivity\",\"EVI\",\"Bioclim05\",\"Bioclim06\",\"Bioclim12\"))\n",
                "names(preds_future2)\n",
                "preds_current2\n",
                "\n",
                "rm(preds_future)\n"
            ]
        },
        {
            "cell_type": "markdown",
            "metadata": {},
            "source": [
                "# here we will show you how to take a mean of many months of data if you have many months of data in one folder (you may wa#\n",
                "# perhaps you are exploring what a suitable niche looks like during a drought\n",
                "# You may then want climate like averages like precipitation, or average temperature during the drought months\n",
                "\n",
                "# one way to do this if you have separate rasters fir each month in one folder\n",
                "#raster_list <- list.files(pattern='.tif$', all.files=TRUE)  # if there are 30 files of tifs from January, this creates a list of those files\n",
                "#all_chl <- stack(raster_list) # this reads each of those files in, and makes them into a raster stack\n",
                "#mean_chl <- mean(all_chl) # and this produces one raster where each cell value is the mean value of all the rasters that were in the that folder\n",
                "\n",
                "\n",
                "# NETCDF files also are a common way for large volumes of data to be\n",
                "#this is an example loop using Terraclimate data\n",
                "# read NetCDF data file obtained from \"TerraClimate\"\n",
                "\n",
                "# import netCDF file - data from TerraClimate python download\n",
                "\n",
                "# require(sf)\n",
                "# require(ncdf4)\n",
                "# require(rasterVis)\n",
                "# require(raster)\n",
                "\n",
                "# download the file here: https://drive.google.com/file/d/1d4aCrdwjWRgENFWqkOucwEZhyDsXpnSV/view?usp=sharing \n",
                "# setwd(\"~/Documents/Use_cases/EY_frogs/data\")  # this is the directory where this NETCDF file is stored\n",
                "# MXtemp <- brick(\"Terraclim_EY_NSW.nc\", varname=\"tmax\")\n",
                "# Mxtemp_mean <- mean(MXtemp)\n",
                "# plot(Mxtemp_mean)\n",
                "# writeRaster(Mxtemp_mean,\"MXtemp_TERRA_Sydney_region.asc\", overwrite=TRUE)\n",
                "\n",
                "# Rain <- brick(\"Terraclim_EY_NSW.nc\", varname=\"ppt\")\n",
                "# Rain_mean <- mean(Rain)\n",
                "# plot(Rain_mean)\n",
                "# writeRaster(Rain_mean,\"Rain_TERRA_Sydney_region.asc\", overwrite=TRUE)\n",
                "\n",
                "# MNtemp <- brick(\"Terraclim_EY_NSW.nc\", varname=\"tmin\")\n",
                "# MNtemp_mean <- mean(MNtemp)\n",
                "# plot(MNtemp_mean)\n",
                "# writeRaster(MNtemp_mean,\"MNtemp_TERRA_Sydney_region.asc\", overwrite=TRUE)\n",
                "\n",
                "# Soil <- brick(\"Terraclim_EY_NSW.nc\", varname=\"soil\")\n",
                "# Soil_mean <- mean(Soil)\n",
                "# plot(Soil_mean)\n",
                "# writeRaster(Soil_mean,\"Soil_wetness_TERRA_Sydney_region.asc\", overwrite=TRUE)\n",
                "# crs(Soil_mean)\n"
            ]
        }
    ],
    "metadata": {
        "anaconda-cloud": "",
        "kernelspec": {
            "display_name": "R",
            "langauge": "R",
            "name": "ir"
        },
        "language_info": {
            "codemirror_mode": "r",
            "file_extension": ".r",
            "mimetype": "text/x-r-source",
            "name": "R",
            "pygments_lexer": "r",
            "version": "3.4.1"
        }
    },
    "nbformat": 4,
    "nbformat_minor": 1
}

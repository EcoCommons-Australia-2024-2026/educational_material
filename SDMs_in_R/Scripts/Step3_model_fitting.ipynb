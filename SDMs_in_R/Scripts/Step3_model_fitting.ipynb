{
    "cells": [
        {
            "cell_type": "markdown",
            "metadata": {},
            "source": "setwd(paste0(direct,folder))\n"
        },
        {
            "cell_type": "code",
            "execution_count": null,
            "metadata": {},
            "outputs": [],
            "source": [
                "direct<- \"/Users/s2992269/Documents/Use_cases\"\n",
                "folder <- \"/SDM_in_R\"\n",
                "\n",
                "#this sets your working director for all subsequent chunks of code in your R Markdown script\n",
                "knitr::opts_knit$set(root.dir = paste0(direct,folder))\n",
                "\n",
                "# if you are not working R Markdown, simply use this instead\n",
                "setwd(paste0(direct,folder))\n",
                "\n",
                "# get your working directory\n",
                "getwd()\n"
            ]
        },
        {
            "cell_type": "markdown",
            "metadata": {},
            "source": [
                "# fit a Maxent model and then fit a BRT model\n",
                "# java will need to be installed in your local machine\n",
                "# and the Maxent files will need to be in your local directory\n",
                "# dowload Maxent from here: https://biodiversityinformatics.amnh.org/open_source/maxent/\n",
                "# ensure these files are in your local directory: maxent.jar  maxent.bat  maxent.sh\n"
            ]
        },
        {
            "cell_type": "code",
            "execution_count": null,
            "metadata": {},
            "outputs": [],
            "source": [
                "library(dismo)\n",
                "library(gbm)\n",
                "library(raster)\n",
                "library(sf)\n",
                "library(rJava)\n",
                "library(boot)\n",
                "library(jpeg)\n",
                "library(MASSExtra)\n",
                "library(mgcv)\n"
            ]
        },
        {
            "cell_type": "markdown",
            "metadata": {},
            "source": [
                "## read occurrence data which was thinned for LiPe\n",
                "\n"
            ]
        },
        {
            "cell_type": "code",
            "execution_count": null,
            "metadata": {},
            "outputs": [],
            "source": [
                "LiPe_thinned <- read.csv(\"data/LiPe_thinned.csv\", stringsAsFactors = FALSE)\n",
                "head(LiPe_thinned)\n"
            ]
        },
        {
            "cell_type": "markdown",
            "metadata": {},
            "source": "\n"
        },
        {
            "cell_type": "code",
            "execution_count": null,
            "metadata": {},
            "outputs": [],
            "source": [
                "# check if Maxent is in the folder\n",
                "jar <- paste(system.file(package = \"dismo\"), \"/java/maxent.jar\", sep = '') \n",
                "if (file.exists(jar)) {\n",
                "  cat(\"can continue, maxent is available\")\n",
                "} else {\n",
                "  cat('cannot run this because maxent is not available')\n",
                "}\n"
            ]
        },
        {
            "cell_type": "markdown",
            "metadata": {},
            "source": "\n"
        },
        {
            "cell_type": "code",
            "execution_count": null,
            "metadata": {},
            "outputs": [],
            "source": [
                "setwd(\"~/Documents/Use_cases/SDM_in_R/predictors\")\n",
                "rast_lst <- list.files(pattern='.asc$', all.files=TRUE)\n",
                "rast_lst\n",
                "LiPe_predictors <- stack(rast_lst)\n",
                "crs(LiPe_predictors) <- \"+proj=longlat +datum=WGS84 +no_defs\"\n",
                "LiPe_predictors \n"
            ]
        },
        {
            "cell_type": "markdown",
            "metadata": {},
            "source": [
                "# earlier runs of this function indicated BioClim01 and BioClim14 were highly correlated with other variables, so they were dropped\n",
                "# With this set of variables we still see high correlations between BioClim 12, AWAP and BioClim 05\n",
                "# however, all correlation are below 0.80, and for the purposes of prediction these correlations are not too high\n",
                "# for looking at comparisons of the importance of variables these correlations are still probably\n",
                "# a bit high \n"
            ]
        },
        {
            "cell_type": "code",
            "execution_count": null,
            "metadata": {},
            "outputs": [],
            "source": [
                "panel.cor <- function(x, y, digits=2, prefix=\"\", cex.cor, ...)\n",
                "{\n",
                "  usr <- par(\"usr\"); on.exit(par(usr))\n",
                "  par(usr = c(0, 1, 0, 1))\n",
                "  r <- abs(cor(x, y, use=\"pairwise.complete.obs\"))\n",
                "  txt <- format(c(r, 0.123456789), digits=digits)[1]\n",
                "  txt <- paste(prefix, txt, sep=\"\")\n",
                "  if(missing(cex.cor)) cex.cor <- 0.8/strwidth(txt)\n",
                "  text(0.5, 0.5, txt, cex = cex.cor * r)\n",
                "}\n",
                "rpoints<-randomPoints(LiPe_predictors,1000)\n",
                "samp<-extract(LiPe_predictors,rpoints)\n",
                "pairs(samp,lower.panel=panel.smooth,upper.panel=panel.cor)\n"
            ]
        },
        {
            "cell_type": "markdown",
            "metadata": {},
            "source": "\n"
        },
        {
            "cell_type": "code",
            "execution_count": null,
            "metadata": {},
            "outputs": [],
            "source": [
                "x_LiPe<- LiPe_thinned$decimalLongitude\n",
                "y_LiPe<-LiPe_thinned$decimalLatitude\n",
                "xy_LiPe<-cbind(x_LiPe,y_LiPe)\n",
                "xy.sp_LiPe<-SpatialPoints(xy_LiPe)\n",
                "crs(xy.sp_LiPe) <- crs(LiPe_predictors)\n",
                "crs(xy.sp_LiPe)\n",
                "\n",
                "plot(LiPe_predictors[[1]])\n",
                "points(xy.sp_LiPe,pch=20,cex=0.2)\n",
                "\n",
                "mask_r <- LiPe_predictors[[2]]\n",
                "ext <- raster::extent(LiPe_predictors)\n"
            ]
        },
        {
            "cell_type": "markdown",
            "metadata": {},
            "source": [
                "#might not need this step\n",
                "#setwd(\"~/Documents/Use_cases/Marine/Yellowtail_R\")\n",
                "\n",
                "\n",
                "#output_file <- paste0(getwd(), \"/output\")\n",
                "#if (!file.exists(output_file)) {\n",
                "#  dir.create(output_file)\n",
                "#}\n",
                "\n",
                "#maxent_args <- c('removeduplicates=TRUE','jackknife=TRUE','replicates=3','replicatetype=crossvalidate','replicatetype=crossvalidate','betamultiplier=1','responsecurves=TRUE', 'pictures=TRUE','plots=TRUE','defaultprevalence=0.5','outputformat=raw')\n",
                "\n",
                "#maxent_args <- c('removeduplicates=TRUE','jackknife=TRUE','responsecurves=TRUE', 'outputformat=cloglog','plots=TRUE','outputgrids=TRUE','applythresholdrule=Maximum training sensitivity plus specificity')\n",
                "\n",
                "# we then choose which arguments we want to use, there are many scientific publications that look at which arguments to use when\n",
                "# a good place to start to understand what Maxent is doing can be found here: https://biodiversityinformatics.amnh.org/open_source/maxent/Maxent_tutorial2017.pdf\n",
                "# and this is an excellent overview of the process and the things to consider https://doi.org/10.1111/ecog.04960 \n",
                "# how you fit your model depends on your question & your data\n",
                "#*remove duplicates is good to make sure is true, just in case, but our thinning step should have removed all duplicates\n",
                "# *jackknife gives an indication of how much each variable contributes to the results\n",
                "# cloglog format is usually what gives optimal predicted values *outputformat = cloglog https://www.researchgate.net/figure/Comparison-of-logistic-and-cloglog-transforms-of-Maxent-output-For-simplicity-no_fig2_315501215\n",
                "# * plots=TRUE gives a variety of plots in the output (results1) folder\n",
                "# a complete list of args that can be used can be found below\n",
                "# This is an argument that is explored alot in the literature *'betamultiplier=1', #multiply all automatic regularization parameters by this number. A higher number gives a more spread-out distribution.\n"
            ]
        },
        {
            "cell_type": "code",
            "execution_count": null,
            "metadata": {},
            "outputs": [],
            "source": [
                "maxent_args <- c('removeduplicates=TRUE','jackknife=TRUE','responsecurves=TRUE','plots=TRUE')\n",
                "\n"
            ]
        },
        {
            "cell_type": "markdown",
            "metadata": {},
            "source": [
                "# this is the model fitting function, and path can be tricky, but when set correctly you get many results written to this folder\n",
                "\n"
            ]
        },
        {
            "cell_type": "code",
            "execution_count": null,
            "metadata": {},
            "outputs": [],
            "source": [
                "Mod1_LiPe <- dismo::maxent(LiPe_predictors, xy.sp_LiPe, path = \"results\", args= maxent_args)\n",
                "\n"
            ]
        },
        {
            "cell_type": "markdown",
            "metadata": {},
            "source": [
                "# if you open up the results 1 folder and click on \"maxent.html\"  A webpage should open up showing some results\n",
                "# The ROC curve and AUC score < 0.9 suggests we are not predicting our training super accurately - \n",
                "# if the goal of this exercise is prediction I would probably stop here and make sure My occurrence data is accurate, and think about what\n",
                "# other variables might help us predict the presence of this species. Also, I would run the model multiple times\n",
                "# Machine / stochatic learning algorithms often result in different results each time\n",
                "# It is a good idea to run the model multiple times to get a sense of the variation\n",
                "# We might get better predictions with a wetland layer that only included freshwater wetland, \n",
                "# perhaps averaging AWAP soil wetness layers over a decade would help? Perhaps there is a national layer that captures small wetlands better?\n",
                "# Jackknife results, and variable importance do not indicate in my results that EVI is a good predictor, so we might look to drop that one from future models\n",
                "# note those Jackknife results and variable response plots are also in the plots folder in the results folder\n",
                "# Try deleting the results in results1 folder, and running the model again, Are results exactly the same?  WHY NOT?\n",
                "\n",
                "# now lets predict a gridcell value for each cell in our extent\n"
            ]
        },
        {
            "cell_type": "code",
            "execution_count": null,
            "metadata": {},
            "outputs": [],
            "source": [
                "map_predictions <- predict(Mod1_LiPe, LiPe_predictors,args=maxent_args)\n",
                "plot(map_predictions)\n",
                "points(xy.sp_LiPe,pch=20,cex=0.2)\n"
            ]
        },
        {
            "cell_type": "markdown",
            "metadata": {},
            "source": [
                "# if you want to save a jpg of the mapped predictions use the code below\n",
                "\n"
            ]
        },
        {
            "cell_type": "code",
            "execution_count": null,
            "metadata": {},
            "outputs": [],
            "source": [
                "require(\"jpeg\")\n",
                "setwd(\"~/Documents/Use_cases/SDM_in_R\") # make sure your current directory is your working directory, use getwd() to ensure you have asigned the directory correctly\n",
                "jpeg(paste0(getwd(),\"/results/LiPe_predicted.jpeg\"))\n",
                "plot(map_predictions)\n",
                "points(xy.sp_LiPe,pch=20,cex=0.2)\n",
                "dev.off()\n"
            ]
        },
        {
            "cell_type": "markdown",
            "metadata": {},
            "source": [
                "# This threshold maximises the cases where the model incorrectly assigns unsuitable habitat (true negative) and misses suitable habitat (false positive)\n",
                "# keep in mind how you set your threshold will depend on your use of the resulting map, or your question\n"
            ]
        },
        {
            "cell_type": "code",
            "execution_count": null,
            "metadata": {},
            "outputs": [],
            "source": [
                "results1<-read.csv(\"results/maxentResults.csv\")\n",
                "thresh<-results1$Maximum.training.sensitivity.plus.specificity.area\n",
                "thresh\n",
                "\n",
                "m <- c(0, thresh, 0,  thresh, 1, 1)\n",
                "reclass <- matrix(m, ncol= 3, byrow= TRUE)\n",
                "rc <- reclassify(map_predictions, reclass)\n",
                "\n",
                "plot(rc)\n",
                "points(xy.sp_LiPe,pch=20,cex=0.2)\n"
            ]
        },
        {
            "cell_type": "markdown",
            "metadata": {},
            "source": [
                "#  What if someone gave us $1million to buy some LiPe habitat?\n",
                "# We might want to be really sure the species is present, if that is the case we might want to find a model with AUC > 0.9\n",
                "# but just to illustrate the result lets try a much higher threshold\n",
                "# first we want to rescale the data so values run between 0 and 1, then select a threshold of 0.8\n",
                "# There are many reasons and ways to set thresholds, this is just one example\n",
                "# of selecting a more conservative threshold that identifies locations where we are\n",
                "# relatively more sure are suitable\n"
            ]
        },
        {
            "cell_type": "code",
            "execution_count": null,
            "metadata": {},
            "outputs": [],
            "source": [
                "min.R <- cellStats(map_predictions,\"min\")\n",
                "max.R <- cellStats(map_predictions,\"max\")\n",
                "\n",
                "map_predictions2 <- ((map_predictions - min.R) / (max.R - min.R) - 0 ) * 1\n",
                "\n",
                "thresh2 <- 0.8\n",
                "\n",
                "m2 <- c(0, thresh2, 0,  thresh2, 1, 1)\n",
                "reclass2 <- matrix(m2, ncol= 3, byrow= TRUE)\n",
                "rc2 <- reclassify(map_predictions2, reclass2)\n",
                "\n",
                "plot(rc2)\n"
            ]
        },
        {
            "cell_type": "markdown",
            "metadata": {},
            "source": [
                "# there are far fewer locations where we are pretty sure someone will find LiPe, and what if our original model is not that good, how can we assess this?\n",
                "\n",
                "\n",
                "#######################\n",
                "#######################\n",
                "#######################\n",
                "#######################\n",
                "#######################\n",
                "## \n",
                "\n",
                "# now we are going to explore how consistent results are with a three fold-cross validation\n",
                "# 3-folds or replicates = 3, when using cross validation as the replicate type\n",
                "\n",
                "#*replicatetype=crossvalidate, *replicates=3\n"
            ]
        },
        {
            "cell_type": "code",
            "execution_count": null,
            "metadata": {},
            "outputs": [],
            "source": [
                "maxent_args2 <- c('removeduplicates=TRUE','jackknife=TRUE','responsecurves=TRUE', 'outputformat=cloglog','plots=TRUE','replicatetype=crossvalidate','replicates=3')\n",
                "\n"
            ]
        },
        {
            "cell_type": "markdown",
            "metadata": {},
            "source": [
                "# this is the model fitting function, and path can be tricky, but when set correctly you get many results written to this folder\n",
                "\n"
            ]
        },
        {
            "cell_type": "code",
            "execution_count": null,
            "metadata": {},
            "outputs": [],
            "source": [
                "Mod2_LiPe <- dismo::maxent(LiPe_predictors, xy.sp_LiPe, path = \"results2\", args= maxent_args2)\n",
                "\n"
            ]
        },
        {
            "cell_type": "markdown",
            "metadata": {},
            "source": [
                "# notice that in the folder results2 the differences between the three models (maxent_0.html, maxent_2.html, maxent_2.html) are very similar (likely due to large numer of occurrence records)\n",
                "# what other way could you compare the performance of these three models, and how?\n",
                "\n",
                "#######################\n",
                "#######################\n",
                "#######################\n",
                "#######################\n",
                "#######################\n",
                "#######################\n",
                "#######################\n",
                "#######################\n",
                "#######################\n",
                "#######################\n",
                "\n",
                "# Now let briefly explore how to account for sampling bias\n"
            ]
        },
        {
            "cell_type": "code",
            "execution_count": null,
            "metadata": {},
            "outputs": [],
            "source": [
                "bias_raster <- raster(\"data/Bias_LiPe_kd.asc\")\n",
                "crs(bias_raster) <- \"+proj=longlat +datum=WGS84 +no_defs\"  #always double check you have defined the CRS correctly\n",
                "plot(bias_raster)  # and a good idea to double check that it looks like it should\n"
            ]
        },
        {
            "cell_type": "markdown",
            "metadata": {},
            "source": "\n"
        },
        {
            "cell_type": "code",
            "execution_count": null,
            "metadata": {},
            "outputs": [],
            "source": [
                "bg <- xyFromCell(bias_raster, sample(which(!is.na(values(bias_raster))), 10000, prob=values(bias_raster)[!is.na(values(bias_raster))]))\n",
                "\n"
            ]
        },
        {
            "cell_type": "markdown",
            "metadata": {},
            "source": [
                "# args = c('biasfile=bias_raster')  # some documentation indicates that you could use this argument to allow Maxent to correct for bias (looks like a different method though) I could not get this argument to work though\n",
                "\n"
            ]
        },
        {
            "cell_type": "code",
            "execution_count": null,
            "metadata": {},
            "outputs": [],
            "source": [
                "maxent_args <- c('removeduplicates=TRUE','jackknife=TRUE','responsecurves=TRUE', 'outputformat=cloglog','plots=TRUE')\n",
                "Mod3_LiPe <- dismo::maxent(x=LiPe_predictors, p=xy.sp_LiPe,a=bg, path = \"results3\", args= maxent_args)\n",
                "\n",
                "map_predictions3 <- predict(Mod3_LiPe, LiPe_predictors)\n",
                "\n",
                "plot(map_predictions3)\n",
                "points(xy.sp_LiPe,pch=20,cex=0.2)\n"
            ]
        },
        {
            "cell_type": "markdown",
            "metadata": {},
            "source": [
                "# compare these results, what else might we do to compare results between models?\n",
                "\n",
                "# there are some pretty big changes, and the model fitting does not give as high an AUC, Why? What if we had not used thinned data? Would the AUC have been higher? Why?\n",
                "\n",
                "#######################\n",
                "#######################\n",
                "#######################\n",
                "#######################\n",
                "#######################\n",
                "#######################\n",
                "#######################\n",
                "#######################\n",
                "#######################\n",
                "#######################\n",
                "\n",
                "# Now lets try using targeted background points\n",
                "\n",
                "#LiPe_zeros_thinned_1vis\n",
                "#LiPe_thinned\n"
            ]
        },
        {
            "cell_type": "code",
            "execution_count": null,
            "metadata": {},
            "outputs": [],
            "source": [
                "zeros_1visit <- read.csv(\"data/LiPe_zero_locations_thinned_1vis.csv\") # these are the locations where we assume there were no LiPe in that cell because at least one\n",
                "\n",
                "x_bk2<- zeros_1visit$Long\n",
                "y_bk2<-zeros_1visit$Lat\n",
                "xy_bk2<-cbind(x_bk2,y_bk2)\n",
                "xy.sp_bk2<-SpatialPoints(xy_bk2)\n",
                "crs(xy.sp_bk2) <- crs(LiPe_predictors)\n",
                "crs(xy.sp_bk2)\n",
                "\n",
                "plot(LiPe_predictors[[2]])\n",
                "points(xy.sp_bk2,pch=20,cex=0.2) #notice there has been alot of inland locations where frogs were surveyed for, but which did not record LiPe\n"
            ]
        },
        {
            "cell_type": "markdown",
            "metadata": {},
            "source": "\n"
        },
        {
            "cell_type": "code",
            "execution_count": null,
            "metadata": {},
            "outputs": [],
            "source": [
                "maxent_args <- c('removeduplicates=TRUE','jackknife=TRUE','responsecurves=TRUE', 'outputformat=cloglog','plots=TRUE')\n",
                "Mod4_LiPe <- dismo::maxent(x=LiPe_predictors, p=xy.sp_LiPe, a=xy.sp_bk2, path = \"results4\", args= maxent_args)\n",
                "\n",
                "map_predictions4 <- predict(Mod4_LiPe, LiPe_predictors)\n",
                "\n",
                "plot(map_predictions4)\n",
                "points(xy.sp_LiPe,pch=20,cex=0.2)\n"
            ]
        },
        {
            "cell_type": "markdown",
            "metadata": {},
            "source": [
                "# Notice our AUC values have fallen again and while the response curves look similar, variable importance has shifted.  There is a clear difference\n",
                "# between the overall background, and a targeted background that only uses environmental variables where someone has done a frog survey\n",
                "# should we consider excluding desert areas, where LiPe is not observed from our study area, or extent? Will we get more realistic estimates of\n",
                "# model performance, and of the subtle differences between the areas LiPe occurs and where is does not if we focus our extent to only occur areas \n",
                "# where they might occur.  The map does not look radically different to the map predictions from model 1, but the low AUC is highligting how the\n",
                "# it is hard to distinguish between presence locations and nearby locations where LiPe was not observed.  This is due to the high spatial autocorrelation\n",
                "# in our predictor values and in our sampling effort.  This is a better AUC, and indicates there is much work to do to predict well.\n",
                "\n",
                "# what if we predict our current model into the future?\n"
            ]
        },
        {
            "cell_type": "code",
            "execution_count": null,
            "metadata": {},
            "outputs": [],
            "source": [
                "setwd(\"~/Documents/Use_cases/SDM_in_R/predictors_future\")\n",
                "rast_lst2 <- list.files(pattern='.asc$', all.files=TRUE)\n",
                "rast_lst2\n",
                "LiPe_predictors_future <- stack(rast_lst2)\n",
                "crs(LiPe_predictors_future) <- \"+proj=longlat +datum=WGS84 +no_defs\"\n",
                "LiPe_predictors_future\n",
                "\n",
                "map_predictions5 <- predict(Mod4_LiPe, LiPe_predictors_future)\n",
                "\n",
                "plot(map_predictions5)\n",
                "points(xy.sp_LiPe,pch=20,cex=0.2)\n"
            ]
        },
        {
            "cell_type": "markdown",
            "metadata": {},
            "source": [
                "# any differences expected in the future map (slight difference with retraction away from inland and northern areas, possible suitability increase at higher elevations  \n",
                "# How confident are we?  Was it a problem that we used one source of climate model to represent current climate\n",
                "# and another source to represent future climate?\n",
                "\n",
                "####################\n",
                "####################\n",
                "####################\n",
                "####################\n",
                "####################\n",
                "####################\n",
                "####################\n",
                "####################\n",
                "## Now we will fit a Boosted Regression Tree (BRT) model, which is essentially a generalized boosting model (gbm)\n",
                "\n",
                "### First, lets add our data where no LiPe were found on three visits\n"
            ]
        },
        {
            "cell_type": "code",
            "execution_count": null,
            "metadata": {},
            "outputs": [],
            "source": [
                "LiPe_zero_3vis<-read.csv(\"data/LiPe_zero_locations_3vis.csv\")\n",
                "head(LiPe_zero_3vis)\n",
                "LiPe_zero_3vis$X <- NULL\n",
                "LiPe_zero_3vis$spp <- NULL\n",
                "head(LiPe_zero_3vis)\n",
                "LiPe_thin <- as.data.frame(cbind(Long = LiPe_thinned$decimalLongitude, Lat = LiPe_thinned$decimalLatitude, pres = LiPe_thinned$layer))\n",
                "LiPe_thin2 <- LiPe_thin[complete.cases(LiPe_thin), ]\n",
                "head(LiPe_thin2)\n",
                "LiPe_p_a <- rbind(LiPe_zero_3vis,LiPe_thin2)\n",
                "\n",
                "x_pa<- LiPe_p_a$Long\n",
                "y_pa<-LiPe_p_a$Lat\n",
                "xy_pa<-cbind(x_pa,y_pa)\n",
                "xy.sp_pa<-SpatialPoints(xy_pa)\n",
                "crs(xy.sp_pa) <- crs(LiPe_predictors)\n",
                "crs(xy.sp_pa)\n",
                "\n",
                "LiPe_preds <- extract(LiPe_predictors,xy.sp_pa)\n",
                "LiPe_preds2 <- cbind(LiPe_p_a,LiPe_preds)\n",
                "LiPe_preds3 <- as.data.frame(LiPe_preds2[complete.cases(LiPe_preds2), ])\n",
                "summary(LiPe_preds3)\n",
                "names(LiPe_preds3) # note in gbm.step you specify the column index location, so pres is indexed as 3 in names\n"
            ]
        },
        {
            "cell_type": "markdown",
            "metadata": {},
            "source": [
                "# these models use stochastic learning, so you can expect a different answer each time unless you set the random seed, or make them\n",
                "# deterministic by setting bag fraction to 1\n"
            ]
        },
        {
            "cell_type": "code",
            "execution_count": null,
            "metadata": {},
            "outputs": [],
            "source": [
                "LiPe_mod5_brt <- gbm.step(data = LiPe_preds3, gbm.x = c(4:9), gbm.y = 3, family = \"bernoulli\", tree.complexity = 3, learning.rate = 0.01, bag.fraction = 0.75)\n",
                "\n"
            ]
        },
        {
            "cell_type": "markdown",
            "metadata": {},
            "source": [
                "# notice the plot that is produced automatically that shows the drop in holdout deviance as the number of trees increases, we are looking to explain more deviance with each tree\n",
                "# ideally this curve would not decrease quickly at the start, there would be gentler curve.  Steep drops early in the model are often less stable models\n",
                "# reducing the learning rate from 0.01 to 0.003 might lessen the drop, but this one is not too bad, and it would take much longer to run if we slow the learning rate down\n",
                "\n",
                "# Elith et al. provides general guidelines on where to start, and suggests a variety of ways to select optimal settings.\n",
                "\n",
                "# keep in mind a tree complexity of 3 suggests you suspect that three way interactions make sense ecologically. \n",
                "# perhaps the suitability of frog ponds relates to how hot it has been, what the soil moisture was like and how much rain occurred?\n",
                "\n",
                "# also, simply running this model again, and comparing results will give you some indication of how stable your model is\n",
                "\n",
                "# there are alot of interesting things stored in the model object, and you can browse through them\n"
            ]
        },
        {
            "cell_type": "code",
            "execution_count": null,
            "metadata": {},
            "outputs": [],
            "source": [
                "names(LiPe_mod5_brt)\n",
                "LiPe_mod5_brt$gbm.call # this shows all the other default settings as well as those specified in the call\n"
            ]
        },
        {
            "cell_type": "markdown",
            "metadata": {},
            "source": [
                "# lets predict and plot results, this step takes a couple hours\n",
                "# this predict function will use the n.trees = to the best trees number found in the original model check it using:\n"
            ]
        },
        {
            "cell_type": "code",
            "execution_count": null,
            "metadata": {},
            "outputs": [],
            "source": [
                "pred_map_brt <- predict(LiPe_predictors,LiPe_mod5_brt,type = \"response\")\n",
                "LiPe_mod5_brt$gbm.call$best.trees\n"
            ]
        },
        {
            "cell_type": "markdown",
            "metadata": {},
            "source": [
                "# 3000 trees will be used, you can choose another value if you have a good reason too.\n",
                "\n"
            ]
        },
        {
            "cell_type": "code",
            "execution_count": null,
            "metadata": {},
            "outputs": [],
            "source": [
                "require(\"jpeg\")\n",
                "setwd(\"~/Documents/Use_cases/SDM_in_R\") # make sure your current directory is your working directory, use getwd() to ensure you have asigned the directory correctly\n",
                "jpeg(paste0(getwd(),\"/results_brt/LiPe_brt_predicted.jpeg\"))\n",
                "plot(pred_map_brt)\n",
                "points(xy.sp_LiPe,pch=20,cex=0.2)\n",
                "dev.off()\n"
            ]
        },
        {
            "cell_type": "markdown",
            "metadata": {},
            "source": [
                "# write raster\n",
                "# writeRaster(pred_map_brt, \"results_brt/LiPe_brt_predicted.asc\")\n",
                "\n",
                "# there are alot more options to explore with BRT: https://rspatial.org/raster/sdm/9_sdm_brt.html \n",
                "# curious what a function does\n"
            ]
        },
        {
            "cell_type": "code",
            "execution_count": null,
            "metadata": {},
            "outputs": [],
            "source": [
                "??gbm.plot\n",
                "\n"
            ]
        },
        {
            "cell_type": "markdown",
            "metadata": {},
            "source": [
                "# gbm.plot generates response curves\n",
                "\n"
            ]
        },
        {
            "cell_type": "code",
            "execution_count": null,
            "metadata": {},
            "outputs": [],
            "source": [
                "jpeg(paste0(getwd(),\"/results_brt/LiPe_brt_var_response_curves.jpeg\"))\n",
                "gbm.plot(LiPe_mod5_brt,rug=TRUE)\n",
                "dev.off()\n"
            ]
        },
        {
            "cell_type": "markdown",
            "metadata": {},
            "source": "\n"
        },
        {
            "cell_type": "code",
            "execution_count": null,
            "metadata": {},
            "outputs": [],
            "source": [
                "gbm.plot.fits(LiPe_mod5_brt)\n",
                "\n"
            ]
        },
        {
            "cell_type": "markdown",
            "metadata": {},
            "source": "\n"
        },
        {
            "cell_type": "code",
            "execution_count": null,
            "metadata": {},
            "outputs": [],
            "source": [
                "gbm.interactions(LiPe_mod5_brt)\n",
                "\n"
            ]
        },
        {
            "cell_type": "markdown",
            "metadata": {},
            "source": "\n"
        },
        {
            "cell_type": "code",
            "execution_count": null,
            "metadata": {},
            "outputs": [],
            "source": [
                "BRT_var_import<-as.data.frame(LiPe_mod5_brt$contributions)\n",
                "\n"
            ]
        },
        {
            "cell_type": "markdown",
            "metadata": {},
            "source": [
                "# write.csv(BRT_var_import,\"results_brt/LiPe_brt_var_importance.csv\")\n",
                "\n",
                "# var importance suggests two variables don't add much, lets look at possibly dropping those two\n"
            ]
        },
        {
            "cell_type": "code",
            "execution_count": null,
            "metadata": {},
            "outputs": [],
            "source": [
                "brt_drops <- gbm.simplify(LiPe_mod5_brt, n.drops = 4)\n",
                "\n"
            ]
        },
        {
            "cell_type": "markdown",
            "metadata": {},
            "source": [
                "# if we look at the graph produced by gbm.simplify we can see a red verticle line at 2 variables removed \n",
                "# gbm uses boosting to focus on improving fit (deviance) on each iteration, but if it is focussing on a\n",
                "# a variable that does not help, it actually increases deviance by having that extra predictor in the model\n",
                "# A better predictive model might result from dropping 1 or 2 variables\n"
            ]
        },
        {
            "cell_type": "code",
            "execution_count": null,
            "metadata": {},
            "outputs": [],
            "source": [
                "names(LiPe_preds3)[brt_drops$pred.list[[1]]]\n",
                "\n"
            ]
        },
        {
            "cell_type": "markdown",
            "metadata": {},
            "source": [
                "#compare that to the full list used in the model\n",
                "\n"
            ]
        },
        {
            "cell_type": "code",
            "execution_count": null,
            "metadata": {},
            "outputs": [],
            "source": [
                "names(LiPe_preds3)[c(4:9)]\n",
                "\n"
            ]
        },
        {
            "cell_type": "markdown",
            "metadata": {},
            "source": [
                "# Not surprisingly this indicates that the variable EVI which contributes least can be dropped, Ecologically it might be a stretch\n",
                "# to think that wetlands for frogs will be related to how green vegetation is in an area, so it might make sense to drop it\n",
                "# Note few people worry about this step, but ecologists like simpler models, and keeping EVI actually increases predictive deviance, so dropping makes sense\n"
            ]
        },
        {
            "cell_type": "code",
            "execution_count": null,
            "metadata": {},
            "outputs": [],
            "source": [
                "names(LiPe_preds3)[brt_drops$pred.list[[2]]]\n",
                "\n"
            ]
        },
        {
            "cell_type": "markdown",
            "metadata": {},
            "source": [
                "# if we were to drop two variables it would be EVI and wetland connectivity.  We know wetland connectivity includes salty wetlands which are no good for frogs\n",
                "# and the layer does not include most of the small wetlands used by frogs, so ecologically might make sense to drop it, and a slight increase in predictive deviance\n",
                "# when included.  Given my objective is to maximise predictions, I would drop both.\n",
                "\n",
                "# a short cut for running another model with those two variables dropped is below, notice the diffent way to call gbm.x = \n",
                "\n",
                "# LiPe_mod6_brt <- gbm.step(data = LiPe_preds3, gbm.x = brt_drops$pred.list[[2]], gbm.y = 3, family = \"bernoulli\", tree.complexity = 3, learning.rate = 0.01, bag.fraction = 0.75)\n",
                "\n",
                "# other plotting methods, evaluation, bootstrapping or ways to optimise the selection of the number of trees can be found here:\n",
                "# https://rspatial.org/raster/sdm/9_sdm_brt.html\n",
                "# Elith, J., Leathwick, J.R., and Hastie, T. (2008). Boosted regression trees - a new technique for modelling ecological data. Journal of Animal Ecology\n",
                "\n",
                "####################\n",
                "####################\n",
                "####################\n",
                "####################\n",
                "####################\n",
                "####################\n",
                "####################\n",
                "####################\n",
                "## Now we will very quickly fit a GLM\n",
                "# from the Mass package require(MASSExtra)\n"
            ]
        },
        {
            "cell_type": "code",
            "execution_count": null,
            "metadata": {},
            "outputs": [],
            "source": [
                "glm1<- glm(pres ~ AWAP + Bioclim05 + Bioclim06 + Bioclim12 + EVI+ wetland_connectivity, family = binomial, data = LiPe_preds3)\n",
                "\n",
                "glm1\n",
                "summary(glm1)\n"
            ]
        },
        {
            "cell_type": "markdown",
            "metadata": {},
            "source": [
                "# this is a great new function which simplifies variable selection (remember the days of forward, backward) stepAIC is often good, stepBIC uses a different metric\n",
                "\n"
            ]
        },
        {
            "cell_type": "code",
            "execution_count": null,
            "metadata": {},
            "outputs": [],
            "source": [
                "glm1a <- step_BIC(glm1)\n",
                "\n"
            ]
        },
        {
            "cell_type": "markdown",
            "metadata": {},
            "source": [
                "# this suggests our best model includes AWAP, Bioclim 05, and Bioclim06\n",
                "\n",
                "# check residual plots, interpretation of residual plots for binomial family is different to other residual plot diagnostics, hear there appears to be little\n",
                "# violation of linearity, and there are some influencial data outliers\n",
                "#  from library(boot)\n"
            ]
        },
        {
            "cell_type": "code",
            "execution_count": null,
            "metadata": {},
            "outputs": [],
            "source": [
                "model_diags <- glm.diag(glm1a)    #residual diagnostics\n",
                "glm.diag.plots(glm1a,model_diags)\n"
            ]
        },
        {
            "cell_type": "markdown",
            "metadata": {},
            "source": [
                "# lets see how the predictions look\n",
                "\n"
            ]
        },
        {
            "cell_type": "code",
            "execution_count": null,
            "metadata": {},
            "outputs": [],
            "source": [
                "names(LiPe_predictors)\n",
                "LiPe_preds_subset <- LiPe_predictors[[which(c(TRUE,TRUE,TRUE,FALSE,FALSE,FALSE))]]\n"
            ]
        },
        {
            "cell_type": "markdown",
            "metadata": {},
            "source": "\n"
        },
        {
            "cell_type": "code",
            "execution_count": null,
            "metadata": {},
            "outputs": [],
            "source": [
                "glm_pred <- predict(LiPe_preds_subset,glm1a,type=\"response\")\n",
                "\n"
            ]
        },
        {
            "cell_type": "markdown",
            "metadata": {},
            "source": "\n"
        },
        {
            "cell_type": "code",
            "execution_count": null,
            "metadata": {},
            "outputs": [],
            "source": [
                "setwd(\"~/Documents/Use_cases/SDM_in_R\") # make sure your current directory is your working directory, use getwd() to ensure you have asigned the directory correctly\n",
                "jpeg(paste0(getwd(),\"/results_glm/LiPe_glm_predicted.jpeg\"))\n",
                "plot(glm_pred)\n",
                "points(xy.sp_LiPe,pch=20,cex=0.2)\n",
                "dev.off()\n"
            ]
        },
        {
            "cell_type": "markdown",
            "metadata": {},
            "source": [
                "####################\n",
                "####################\n",
                "####################\n",
                "####################\n",
                "####################\n",
                "####################\n",
                "####################\n",
                "####################\n",
                "## finally we will git a GAM\n",
                "\n",
                "# from the mgcv package require(mgcv)\n",
                "# a cr spline is defined by having knots spread throughout the co-variate values and which the amount of smooting is optimised, so it can become less wiggly\n"
            ]
        },
        {
            "cell_type": "code",
            "execution_count": null,
            "metadata": {},
            "outputs": [],
            "source": [
                "gam1<- gam(pres ~ s(AWAP, bs=\"cr\") + s(Bioclim05, bs=\"cr\") + s(Bioclim06,bs=\"cr\"), family = binomial, data = LiPe_preds3)\n",
                "gam.check(gam1)\n"
            ]
        },
        {
            "cell_type": "markdown",
            "metadata": {},
            "source": [
                "# if we compare AIC values it looks like the GAM picks up some important non-linear relationships and is better than a GLM for this variable set anyway.\n",
                "# BIC also suggests gam1 is better than either glm model\n"
            ]
        },
        {
            "cell_type": "code",
            "execution_count": null,
            "metadata": {},
            "outputs": [],
            "source": [
                "AIC(glm1a)\n",
                "AIC(gam1)\n",
                "\n",
                "plot(gam1)\n"
            ]
        },
        {
            "cell_type": "markdown",
            "metadata": {},
            "source": "\n"
        },
        {
            "cell_type": "code",
            "execution_count": null,
            "metadata": {},
            "outputs": [],
            "source": [
                "gam_pred <- predict(LiPe_preds_subset,gam1,type=\"response\")\n",
                "\n"
            ]
        },
        {
            "cell_type": "markdown",
            "metadata": {},
            "source": [
                "# generate a jpeg map of the GAM predictions\n",
                "\n"
            ]
        },
        {
            "cell_type": "code",
            "execution_count": null,
            "metadata": {},
            "outputs": [],
            "source": [
                "setwd(\"~/Documents/Use_cases/SDM_in_R\") # make sure your current directory is your working directory, use getwd() to ensure you have asigned the directory correctly\n",
                "jpeg(paste0(getwd(),\"/results_gam/LiPe_glm_predicted.jpeg\"))\n",
                "plot(gam_pred)\n",
                "points(xy.sp_LiPe,pch=20,cex=0.2)\n",
                "dev.off()\n"
            ]
        },
        {
            "cell_type": "markdown",
            "metadata": {},
            "source": [
                "####################\n",
                "####################\n",
                "####################\n",
                "####################\n",
                "####################\n",
                "####################\n",
                "####################\n",
                "####################\n",
                "## list of Maxent args\n",
                "\n",
                "#maxent_args <- c(\n",
                "\n",
                "<!--   #duplicate records -->\n",
                "<!--   'removeduplicates=TRUE', #remove duplicate presence records. If environmental data are in grids, duplicates are records in the same grid cell, otherwise, duplicates are records with identical coordinates. -->\n",
                "\n",
                "<!--   #background records -->\n",
                "<!--   'maximumbackground=10000', #if the number of background points/grid cells is larger than this number, then this number of cells is chosen randomly for background points. -->\n",
                "<!--   'addsamplestobackground=TRUE', #add to the background any sample for which has a combination of environmental values that isn't already present in the background -->\n",
                "<!--   'addallsamplestobackground=FALSE', #add all samples to the background, even if they have combinations of environmental values that are already present in the background -->\n",
                "\n",
                "<!--   #missing data -->\n",
                "<!--   'allowpartialdata=FALSE', #during model training, allow use of samples that have nodata values for one or more environmental variables -->\n",
                "\n",
                "<!--   #variable importance -->\n",
                "<!--   'jackknife=TRUE', #NB: default=FALSE; measure importance of each environmental variable by training with each environmental variable first omitted, then used in isolation. -->\n",
                "\n",
                "<!--   #random seed -->\n",
                "<!--   'randomseed=FALSE', #if selected, a different random seed will be used for each run, so a different random test/train partition will be made and a different random subset of the background will be used, if applicable. -->\n",
                "\n",
                "<!--   #prevalence -->\n",
                "<!--   'defaultprevalence=0.5', #default prevalence of the species: probability of presence at ordinary occurrence points. See Elith et al. Diversity and Distributions, 2011 for details -->\n",
                "\n",
                "<!--   #train/test settings -->\n",
                "<!--   'randomtestpoints=0', #percentage of presence localities to be randomly set aside as test points, used to compute AUC, omission, etc. -->\n",
                "<!--   'replicates=1', #number of replicate runs to do when cross-validating, bootstrapping or doing sampling with replacement runs. -->\n",
                "<!--   'replicatetype=crossvalidate', #if replicates > 1, do multiple runs of this type:  -->\n",
                "<!--   #crossvalidate: samples divided into replicates fods; each fold in turn used for test data -->\n",
                "<!--   #bootstrap: replicate sample sets chosen by sampling with replacement -->\n",
                "<!--   #subsample: replicate sample sets chosen by removing random test percentage without replacement to be used for evaluation -->\n",
                "<!--   'maximumiterations=500', #stop training after this many iterations of the optimization algorithm -->\n",
                "<!--   'convergencethreshold=0.00001', #stop training when the drop in log loss per iteration drops below this number  -->\n",
                "\n",
                "<!--   #feature selection -->\n",
                "<!--   'autofeature=TRUE', #automatically select which feature classes to use, based on number of training samples -->\n",
                "<!--   'linear=TRUE', #allow linear features to be used -->\n",
                "<!--   'quadratic=TRUE', #allow quadratic features to be used -->\n",
                "<!--   'product=TRUE', #allow product features to be used -->\n",
                "<!--   'threshold=TRUE', #allow threshold features to be used -->\n",
                "<!--   'hinge=TRUE', #allow hinge features to be used -->\n",
                "\n",
                "<!--   #feature settings -->\n",
                "<!--   'lq2lqptthreshold=80', #number of samples at which product and threshold features start being used -->\n",
                "<!--   'l2lqthreshold=10', #number of samples at which quadratic features start being used -->\n",
                "<!--   'hingethreshold=15', #number of samples at which hinge features start being used -->\n",
                "\n",
                "<!--   #regularization settings -->\n",
                "<!--   'betamultiplier=1', #multiply all automatic regularization parameters by this number. A higher number gives a more spread-out distribution. -->\n",
                "<!--   'beta_threshold=-1', #regularization parameter to be applied to all threshold features; negative value enables automatic setting -->\n",
                "<!--   'beta_categorical=-1', #regularization parameter to be applied to all categorical features; negative value enables automatic setting -->\n",
                "<!--   'beta_lqp=-1', #regularization parameter to be applied to all linear, quadratic and product features; negative value enables automatic setting -->\n",
                "<!--   'beta_hinge=-1', #regularization parameter to be applied to all hinge features; negative value enables automatic setting -->\n",
                "\n",
                "<!--   #outputs - NB. These are not shown in the UI, so unable to be changed by user -->\n",
                "\n",
                "<!--   'responsecurves=TRUE', #NB. default=FALSE; create graphs showing how predicted relative probability of occurrence depends on the value of each environmental variable -->\n",
                "<!--   'responsecurvesexponent=FALSE', #instead of showing the logistic value for the y axis in response curves, show the exponent (a linear combination of features). -->\n",
                "<!--   'pictures=TRUE', #create a .png image for each output grid -->\n",
                "<!--   'outputformat=raw', #representation of probabilities used in writing output grids, see Help for details -->\n",
                "<!--   'writeclampgrid=TRUE', #write a grid that shows the spatial distribution of clamping. At each point, the value is the absolute difference between prediction values with and without clamping. -->\n",
                "<!--   'writemess=TRUE', #a multidimensional environmental similarity surface (MESS) shows where novel climate conditions exist in the projection layers. The analysis shows both the degree of novelness and the variable that is most out of range at each point. -->\n",
                "<!--   'writeplotdata=FALSE', #write output files containing the data used to make response curves, for import into external plotting software. -->\n",
                "<!--   'outputgrids=TRUE', #write output grids. Turning this off when doing replicate runs causes only the summary grids (average, std, deviation, etc) to be written, not those for the individual runs. -->\n",
                "<!--   'plots=TRUE', #write various plots for inclusion in .html output -->\n",
                "<!--   'logfile=maxent.log', #file name to be used for writing debugging information about a run in output directory -->\n",
                "<!--   #'applythresholdrule=Fixed cumulative value 1', #apply a threshold rule, generating a binary outputgrid in addition to the regular prediction grid. Use the full name of the threshold rule in Maxent's html output as the argument. For example 'applyThresholdRule=Fixed cumulative value 1'. -->\n",
                "<!--   'logscale=TRUE', #if selected, all pictures of models will use a logarithmic scale for color-coding -->\n",
                "<!--   'writebackgroundpredictions=FALSE', #write .csv file with predictions at background points -->\n",
                "<!--   'fadebyclamping=FALSE', #reduce prediction at each point in projections by the difference between clamped and non-clamped output at that point -->\n",
                "\n",
                "<!--   #projection settings NB. These are not shown in the UI, so unable to be changed by user -->\n",
                "\n",
                "<!--   'extrapolate=TRUE', #predict to regions of environmental space outside the limits encountered during training -->\n",
                "<!--   'doclamp=TRUE' #apply clamping when projecting -->\n",
                "\n",
                "<!-- #) -->\n"
            ]
        }
    ],
    "metadata": {
        "anaconda-cloud": "",
        "kernelspec": {
            "display_name": "R",
            "langauge": "R",
            "name": "ir"
        },
        "language_info": {
            "codemirror_mode": "r",
            "file_extension": ".r",
            "mimetype": "text/x-r-source",
            "name": "R",
            "pygments_lexer": "r",
            "version": "3.4.1"
        }
    },
    "nbformat": 4,
    "nbformat_minor": 1
}

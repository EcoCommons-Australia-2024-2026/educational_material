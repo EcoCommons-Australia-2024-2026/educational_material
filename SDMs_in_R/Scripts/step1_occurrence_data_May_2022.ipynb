{
    "cells": [
        {
            "cell_type": "markdown",
            "metadata": {},
            "source": [
                "##########################################################################\n",
                "###      EcoCommons running species distribution models in R           ###\n",
                "###   Step 1, set up your workspace, download and clean occurrence data ###\n",
                "##########################################################################\n",
                "##\n",
                "Author details: EcoCommons Platform \n",
                "Contact details: comms@ecocommons.org.au\n",
                "This script is the product of EcoCommons platform.\n",
                "\n",
                "please cite:\n",
                "\n",
                "EcoCommons Australia 2022. EcoCommons Australia – the platform of choice for ecological and environmental modelling, EcoCommons, Griffith University, Nathan, \n",
                "Queensland. Available: https://data–explorer.app.ecocommons.org.au/ (Accessed: Date[ e.g., January 19, 2022]).  https://doi.org/10.47486/PL108\n",
                "\n",
                "Date: March 2022\n",
                "\n",
                "Script and data info:\n",
                "The script and data in this file draws on several sources including \n",
                " \n",
                "1. The ATLAS of Living Australia (ALA), script modified from script written by Jenna Wraith, ALA Training & Outreach Coordinator\n",
                " \n",
                "Stevenson M, Westgate M, Newman P (2022). _galah: Atlas of Living Australia (ALA) Data and\n",
                "Resources in R_. R package version 1.3.1, <URL: https://CRAN.R-project.org/package=galah>.\n",
                "\n",
                "See for vingnettes on how to use the package: https://atlasoflivingaustralia.github.io/galah/\n",
                "\n",
                "2. Global Biodiversity Information Facility (GBIF)\n",
                "\n",
                "source of base code which has been modified here: https://www.r-bloggers.com/2021/03/downloading-and-cleaning-gbif-data-with-r/\n",
                "\n",
                "Chamberlain S, Barve V, Mcglinn D, Oldoni D, Desmet P, Geffert L, Ram K (2022). _rgbif:\n",
                "Interface to the Global Biodiversity Information Facility API_. R package version 3.6.0, \n",
                "<URL: https://CRAN.R-project.org/package=rgbif>.\n",
                "\n",
                "# Setting up your workspace\n",
                "\n",
                "First, if you are new to using R, we strongly suggest you visit this website and fo through that material before trying this: https://datacarpentry.org/R-ecology-lesson/\n",
                "\n",
                "You should be able to run all this code in EcoCommons' coding cloud using either a jupyter notebook (R Kernal) or by importing this notebook into R studio as an R Markdown, i.e. https://rmarkdown.rstudio.com/docs/reference/convert_ipynb.html\n",
                "\n",
                "Below is code to install and load the needed packages, and to set up your working directories and subfolders\n",
                "\n",
                "Install packages if needed, check first to see if they are installed, if they are not run the required line of code for the needed package\n",
                "\n",
                "> install.packages(\"galah\")\n",
                "> install.packages(\"rgbif\")\n",
                "> install.packages(\"maps\")\n",
                "> install.packages(\"tidyr\")\n",
                "> install.packages(\"jpeg\")\n",
                "> install.packages(\"raster\")\n",
                "> install.packages(\"rgeos\")\n",
                "> install.packages(\"sp\")\n"
            ]
        },
        {
            "cell_type": "code",
            "execution_count": null,
            "metadata": {},
            "outputs": [],
            "source": [
                "# load all required packages\n",
                "# Use the install packages line above for any packages not already installed. \n",
                "# install.packages(\"tidyr\") # installs the tidyr package\n",
                "# library(tidyr) #loads that package into the current session\n",
                "\n",
                "library(galah)\n",
                "library(rgbif)\n",
                "library(maps)\n",
                "library(tidyr)\n",
                "library(jpeg)\n",
                "library(raster)\n",
                "library(rgeos)\n",
                "library(sp)\n",
                "library(knitr)\n",
                "library(rmarkdown)\n",
                "\n",
                "\n",
                "#confirm which packages are loaded\n",
                "(.packages())\n"
            ]
        },
        {
            "cell_type": "markdown",
            "metadata": {},
            "source": "\n"
        },
        {
            "cell_type": "code",
            "execution_count": null,
            "metadata": {},
            "outputs": [],
            "source": [
                "# identify your working directory\n",
                "\n",
                "getwd()\n"
            ]
        },
        {
            "cell_type": "markdown",
            "metadata": {},
            "source": "\n"
        },
        {
            "cell_type": "code",
            "execution_count": null,
            "metadata": {},
            "outputs": [],
            "source": [
                "direct<- \"/Users/s2992269/Documents/Use_cases\"\n",
                "folder <- \"/SDM_in_R\"\n",
                "\n",
                "#this sets your working director for all subsequent chunks of code in your R Markdown script\n",
                "knitr::opts_knit$set(root.dir = paste0(direct,folder))\n",
                "\n",
                "# if you are not working R Markdown, simply use this instead\n",
                "# setwd(paste0(direct,folder))\n"
            ]
        },
        {
            "cell_type": "markdown",
            "metadata": {},
            "source": [
                "getwd()\n",
                "setwd(\"\")\n"
            ]
        },
        {
            "cell_type": "code",
            "execution_count": null,
            "metadata": {},
            "outputs": [],
            "source": [
                "# double check your working directory\n",
                "getwd()\n"
            ]
        },
        {
            "cell_type": "markdown",
            "metadata": {},
            "source": [
                "# create a variety of folders in your working directory, if statement ignores this if the folder exists already\n",
                "\n"
            ]
        },
        {
            "cell_type": "code",
            "execution_count": null,
            "metadata": {},
            "outputs": [],
            "source": [
                "raw_data_folder <- paste0(getwd(),\"/raw_data\")\n",
                "  if (!file.exists(raw_data_folder)) {\n",
                "    dir.create(raw_data_folder)}\n",
                "\n",
                "data_folder     <- paste0(getwd(),\"/data\")\n",
                "  if (!file.exists(data_folder)) {\n",
                "    dir.create(data_folder)}\n",
                "\n",
                "results_folder  <- paste0(getwd(),\"/results\")\n",
                "  if (!file.exists(results_folder)) {\n",
                "    dir.create(results_folder)}\n",
                "      \n",
                "results_folder  <- paste0(getwd(),\"/results1\")\n",
                "  if (!file.exists(results_folder)) {\n",
                "    dir.create(results_folder)}\n",
                "    \n",
                "results_folder  <- paste0(getwd(),\"/results2\")\n",
                "  if (!file.exists(results_folder)) {\n",
                "    dir.create(results_folder)}\n",
                "    \n",
                "results_folder  <- paste0(getwd(),\"/results3\")\n",
                "  if (!file.exists(results_folder)) {\n",
                "    dir.create(results_folder)}\n",
                "      \n",
                "results_folder  <- paste0(getwd(),\"/results4\")\n",
                "  if (!file.exists(results_folder)) {\n",
                "    dir.create(results_folder)}\n",
                "      \n",
                "results_folder  <- paste0(getwd(),\"/results_brt\")\n",
                "  if (!file.exists(results_folder)) {\n",
                "    dir.create(results_folder)}\n",
                "      \n",
                "results_folder  <- paste0(getwd(),\"/results_glm\")\n",
                "  if (!file.exists(results_folder)) {\n",
                "    dir.create(results_folder)}\n",
                "    \n",
                "results_folder  <- paste0(getwd(),\"/results_gam\")\n",
                "  if (!file.exists(results_folder)) {\n",
                "    dir.create(results_folder)}\n",
                "      \n",
                "scripts_folder  <- paste0(getwd(),\"/scripts\")\n",
                "    if (!file.exists(scripts_folder)) {\n",
                "        dir.create(scripts_folder)}\n",
                "\n",
                "raw_data_folder <- paste0(getwd(),\"/predictors\")\n",
                "  if (!file.exists(raw_data_folder)) {\n",
                "    dir.create(raw_data_folder)}\n",
                "\n",
                "raw_data_folder <- paste0(getwd(),\"/predictors_future\")\n",
                "  if (!file.exists(raw_data_folder)) {\n",
                "    dir.create(raw_data_folder)}\n"
            ]
        },
        {
            "cell_type": "markdown",
            "metadata": {},
            "source": [
                "\n",
                "\n"
            ]
        },
        {
            "cell_type": "code",
            "execution_count": null,
            "metadata": {},
            "outputs": [],
            "source": [
                "# Set galah_config by adding your email\n",
                "# galah_config(email = \"your-email@email.com\") # This email needs to be registered with ALA\n",
                "# you can register here: https://auth.ala.org.au/userdetails/registration/createAccount \n",
                "\n",
                "galah_config(email = \"r.clemens@griffith.edu.au\") # again put your email in here\n",
                " \n"
            ]
        },
        {
            "cell_type": "markdown",
            "metadata": {},
            "source": "\n"
        },
        {
            "cell_type": "code",
            "execution_count": null,
            "metadata": {},
            "outputs": [],
            "source": [
                "# select an ATLAS\n",
                "## These configuration options will only be saved for this session\n",
                "## Set preserve = TRUE to preserve them for future sessions\n",
                "\n",
                "show_all_atlases()\n"
            ]
        },
        {
            "cell_type": "markdown",
            "metadata": {},
            "source": "\n"
        },
        {
            "cell_type": "code",
            "execution_count": null,
            "metadata": {},
            "outputs": [],
            "source": [
                "# we will be using the Australian ATLAS data\n",
                "\n",
                "galah_config(atlas=\"Australia\")\n"
            ]
        },
        {
            "cell_type": "markdown",
            "metadata": {},
            "source": "\n"
        },
        {
            "cell_type": "code",
            "execution_count": null,
            "metadata": {},
            "outputs": [],
            "source": [
                "# show all the fields or columns of data within in the ALA\n",
                "\n",
                "show_all_fields()\n"
            ]
        },
        {
            "cell_type": "markdown",
            "metadata": {},
            "source": "\n"
        },
        {
            "cell_type": "code",
            "execution_count": null,
            "metadata": {},
            "outputs": [],
            "source": [
                "# find the kinds of data in each field replace the field name of interest in quotes\n",
                "\n",
                "search_fields(\"australian states and territories\")\n"
            ]
        },
        {
            "cell_type": "markdown",
            "metadata": {},
            "source": "\n"
        },
        {
            "cell_type": "code",
            "execution_count": null,
            "metadata": {},
            "outputs": [],
            "source": [
                "search_fields(\"coordinateUncertaintyinMeters\")\n",
                "\n"
            ]
        },
        {
            "cell_type": "markdown",
            "metadata": {},
            "source": "\n"
        },
        {
            "cell_type": "code",
            "execution_count": null,
            "metadata": {},
            "outputs": [],
            "source": [
                "search_fields(\"occurrenceID\")\n",
                "\n"
            ]
        },
        {
            "cell_type": "markdown",
            "metadata": {},
            "source": "\n"
        },
        {
            "cell_type": "code",
            "execution_count": null,
            "metadata": {},
            "outputs": [],
            "source": [
                "# look at the field values \n",
                "\n",
                "search_field_values(\"cl22\")\n"
            ]
        },
        {
            "cell_type": "markdown",
            "metadata": {},
            "source": "\n"
        },
        {
            "cell_type": "code",
            "execution_count": null,
            "metadata": {},
            "outputs": [],
            "source": [
                "# in this example we are looking at frogs\n",
                "search_taxa(\"Amphibia\")\n"
            ]
        },
        {
            "cell_type": "markdown",
            "metadata": {},
            "source": "\n"
        },
        {
            "cell_type": "code",
            "execution_count": null,
            "metadata": {},
            "outputs": [],
            "source": [
                "search_taxa(genus = \"Limnodynastes\")\n",
                "\n"
            ]
        },
        {
            "cell_type": "markdown",
            "metadata": {},
            "source": "\n"
        },
        {
            "cell_type": "code",
            "execution_count": null,
            "metadata": {},
            "outputs": [],
            "source": [
                "search_taxa(species = \"Limnodynastes peroni\")\n",
                "\n"
            ]
        },
        {
            "cell_type": "markdown",
            "metadata": {},
            "source": [
                "# download some occurence data\n",
                "\n",
                "the galah_call function starts a query, then galah_identify selects the taxa you are interested in, galah_filter selects records for specified columns and atlas_occurrences retrieves the specified occurrence records\n"
            ]
        },
        {
            "cell_type": "code",
            "execution_count": null,
            "metadata": {},
            "outputs": [],
            "source": [
                "# look for records submitted by FrogID\n",
                "\n",
                "search_field_values(\"datasetName\")  # note you can see more rows, click lower right below\n"
            ]
        },
        {
            "cell_type": "markdown",
            "metadata": {},
            "source": "\n"
        },
        {
            "cell_type": "code",
            "execution_count": null,
            "metadata": {},
            "outputs": [],
            "source": [
                "# first check the number of records your query will return, there are 67,000+ records in ALA\n",
                "\n",
                "galah_call() %>%\n",
                "  galah_identify(\"Limnodynastes peroni\")%>%\n",
                "  atlas_counts()\n"
            ]
        },
        {
            "cell_type": "markdown",
            "metadata": {},
            "source": "\n"
        },
        {
            "cell_type": "code",
            "execution_count": null,
            "metadata": {},
            "outputs": [],
            "source": [
                "# Then filter those records so only those records from \"FrogID\" are returned for this species\n",
                "# & remove records with a coordinate uncertainty greater than 100m, there are 36,000+ records from the FrogID dataset, and with only coordinates < 100m precision\n",
                "galah_call() %>%\n",
                "  galah_identify(\"Limnodynastes peroni\")%>%\n",
                "  galah_filter(datasetName == \"FrogID\")%>%\n",
                "  galah_filter(stateProvince == \"Queensland\")%>%\n",
                "  galah_filter(coordinateUncertaintyInMeters < 100)%>%\n",
                "  atlas_counts()\n"
            ]
        },
        {
            "cell_type": "markdown",
            "metadata": {},
            "source": [
                "\n",
                "\n"
            ]
        },
        {
            "cell_type": "code",
            "execution_count": null,
            "metadata": {},
            "outputs": [],
            "source": [
                "# select the occurrence records, galah_select returns wanted columns\n",
                "# We could also filter by year, but FrogID data is all pretty recent\n",
                "# Often you will want to ensure you are not including really old records in your data\n",
                "# i.e. galah_filter(year >= 2020)\n",
                "\n",
                "LiPe <- galah_call() %>%\n",
                "  galah_identify(\"Limnodynastes peroni\")%>%\n",
                "  galah_filter(datasetName == \"FrogID\")%>%\n",
                "  galah_filter(coordinateUncertaintyInMeters < 100)%>%\n",
                "  galah_filter(stateProvince == \"Queensland\")%>%\n",
                "  atlas_occurrences()\n"
            ]
        },
        {
            "cell_type": "markdown",
            "metadata": {},
            "source": "\n"
        },
        {
            "cell_type": "code",
            "execution_count": null,
            "metadata": {},
            "outputs": [],
            "source": [
                "# get familiar with data - this will return the column names or fields\n",
                "\n",
                "head(LiPe)\n"
            ]
        },
        {
            "cell_type": "markdown",
            "metadata": {},
            "source": "\n"
        },
        {
            "cell_type": "code",
            "execution_count": null,
            "metadata": {},
            "outputs": [],
            "source": [
                "# generate a summary of those data\n",
                "\n",
                "names(LiPe)\n"
            ]
        },
        {
            "cell_type": "markdown",
            "metadata": {},
            "source": [
                "write.csv(LiPe, \"raw_data/Limnodynastes peroni.csv\")\n",
                "\n"
            ]
        },
        {
            "cell_type": "code",
            "execution_count": null,
            "metadata": {},
            "outputs": [],
            "source": [
                "summary(LiPe)\n",
                "\n"
            ]
        },
        {
            "cell_type": "markdown",
            "metadata": {},
            "source": [
                "drop columns not needed in analyses\n",
                "\n",
                "Note you will often want to filter on additional fields not shown here\n"
            ]
        },
        {
            "cell_type": "code",
            "execution_count": null,
            "metadata": {},
            "outputs": [],
            "source": [
                "LiPe<-LiPe[,c(\"decimalLatitude\",\"decimalLongitude\",\"eventDate\",\"scientificName\")] \n",
                "\n"
            ]
        },
        {
            "cell_type": "markdown",
            "metadata": {},
            "source": "\n"
        },
        {
            "cell_type": "code",
            "execution_count": null,
            "metadata": {},
            "outputs": [],
            "source": [
                "# look at the top rows of the new dataset\n",
                "\n",
                "head(LiPe)\n"
            ]
        },
        {
            "cell_type": "markdown",
            "metadata": {},
            "source": "\n"
        },
        {
            "cell_type": "code",
            "execution_count": null,
            "metadata": {},
            "outputs": [],
            "source": [
                "# this is the earliest date, 2017 is fairly recent, and we want to make sure our predictor variables are available for these years\n",
                "\n",
                "min(LiPe$eventDate)\n"
            ]
        },
        {
            "cell_type": "markdown",
            "metadata": {},
            "source": "\n"
        },
        {
            "cell_type": "code",
            "execution_count": null,
            "metadata": {},
            "outputs": [],
            "source": [
                "#This is the most recent date, 2020\n",
                "max(LiPe$eventDate)\n"
            ]
        },
        {
            "cell_type": "markdown",
            "metadata": {},
            "source": "\n"
        },
        {
            "cell_type": "code",
            "execution_count": null,
            "metadata": {},
            "outputs": [],
            "source": [
                "# save your filtered data to another folder, again you would often filter on other fields as well\n",
                "\n",
                "write.csv(LiPe, \"data/Limnodynastes peroni.csv\")\n"
            ]
        },
        {
            "cell_type": "markdown",
            "metadata": {},
            "source": [
                "double check the directory within the chunks is correct\n",
                "note the directory outside the code chunks might be different\n"
            ]
        },
        {
            "cell_type": "code",
            "execution_count": null,
            "metadata": {},
            "outputs": [],
            "source": [
                "getwd()\n",
                "\n"
            ]
        },
        {
            "cell_type": "markdown",
            "metadata": {},
            "source": [
                "\n",
                "\n"
            ]
        },
        {
            "cell_type": "code",
            "execution_count": null,
            "metadata": {},
            "outputs": [],
            "source": [
                "# read in data and overwrite LiPe\n",
                "LiPe <- read.csv(paste0(getwd(),\"/data/Limnodynastes peroni.csv\"))\n"
            ]
        },
        {
            "cell_type": "markdown",
            "metadata": {},
            "source": "\n"
        },
        {
            "cell_type": "code",
            "execution_count": null,
            "metadata": {},
            "outputs": [],
            "source": [
                "# FrogID records are pretty clean, but often when you map data you will see odd locations\n",
                "map(\"world\", xlim = range(LiPe$decimalLongitude),\n",
                "    ylim = range(LiPe$decimalLatitude))  \n",
                "points(LiPe[ , c(\"decimalLongitude\", \"decimalLatitude\")], pch = \".\")\n"
            ]
        },
        {
            "cell_type": "markdown",
            "metadata": {},
            "source": [
                "When you look at these records mapped, you can see that most records are concentrated where people are near the bigger cities of eastern Australiathis kind of sampling bias is common in Australian occurrence data.  It takes so much more effort to sample in remote locations\n",
                "There are a few things you can do to reduce the problem of bias, you can break up your study area into areas near cities, and more remote areas \n",
                "(we will not do that here)\n",
                "You can reduce the number of records close to one another.  This reduces spatial autocorrelation, and is a good step for these kinds of records\n",
                "before we show how to do spatial - thinning (reducing how close records are together) we need a base raster layer\n",
                "\n",
                "In all the modelling we will show here, each environmental predictor needs to cover the same area (have the same extent), have grid cells that are the\n",
                "same size (same resolution), and use the same coordinate system to define a method for turning a spherical planet earth into a flat map (same coordinate system & map projection = Coordinate Reference System - CRS)\n",
                "\n",
                "A base layer is one with a CRS, extent and resolution that all other layers will be turned into.  Generally it is a good idea to use the largest possible extent, i.e. you often get better predictions when you include the entire range of your species, and when you use the finest (smallest grid cells) possible.  Smaller grid cells only help prediction when the values vary from one grid cell to the next grid cell. I recommed choosing the variable that is most closely related to the ecology of your species and has the smallest resolution (grid cell size).  Which variable do you think will predict best where your species are found? \n"
            ]
        },
        {
            "cell_type": "code",
            "execution_count": null,
            "metadata": {},
            "outputs": [],
            "source": [
                "# this is Enhanced Vegetation Index (EVI) which captures greenness index while correcting ndvi issues, from 2004 downloaded from the EcoCommons site - \n",
                "# https://api.data-ingester.app.ecocommons.org.au/api/data/34ab5ea6-650f-503f-9446-88d0ae9effe1/download/ndlc-2004-250m_trend-evi-mean.tif\n",
                "\n",
                "EVI<-raster(\"raw_data/ndlc-2004-250m_trend-evi-mean.tif\")\n"
            ]
        },
        {
            "cell_type": "markdown",
            "metadata": {},
            "source": "\n"
        },
        {
            "cell_type": "code",
            "execution_count": null,
            "metadata": {},
            "outputs": [],
            "source": [
                "plot(EVI)\n",
                "\n"
            ]
        },
        {
            "cell_type": "markdown",
            "metadata": {},
            "source": "\n"
        },
        {
            "cell_type": "code",
            "execution_count": null,
            "metadata": {},
            "outputs": [],
            "source": [
                "EVI\n",
                "\n"
            ]
        },
        {
            "cell_type": "markdown",
            "metadata": {},
            "source": "\n"
        },
        {
            "cell_type": "code",
            "execution_count": null,
            "metadata": {},
            "outputs": [],
            "source": [
                "LiPe_pts <- SpatialPoints(coords = cbind(LiPe$decimalLongitude, LiPe$decimalLatitude),CRS(as.character(\"+proj=longlat +datum=WGS84 +no_defs\")) )\n",
                "\n"
            ]
        },
        {
            "cell_type": "markdown",
            "metadata": {},
            "source": "\n"
        },
        {
            "cell_type": "code",
            "execution_count": null,
            "metadata": {},
            "outputs": [],
            "source": [
                "require(rgeos)\n",
                "LiPe_convH<- rgeos::gConvexHull(LiPe_pts)\n"
            ]
        },
        {
            "cell_type": "markdown",
            "metadata": {},
            "source": "\n"
        },
        {
            "cell_type": "code",
            "execution_count": null,
            "metadata": {},
            "outputs": [],
            "source": [
                "# check if your convex hull looks correct by plotting\n",
                "# useful information on working with spatial data in R https://cengel.github.io/R-spatial/intro.html \n",
                "\n",
                "plot(EVI)\n",
                "lines(LiPe_convH)\n"
            ]
        },
        {
            "cell_type": "markdown",
            "metadata": {},
            "source": "\n"
        },
        {
            "cell_type": "code",
            "execution_count": null,
            "metadata": {},
            "outputs": [],
            "source": [
                "#increase the size of your extent (study area to beyone the extent of your point data)\n",
                "# our CRS is in decimal degrees so 1 degree ~ 111km larger\n",
                "\n",
                "LiPe_extent <- rgeos::gBuffer(LiPe_convH, width = 1)\n"
            ]
        },
        {
            "cell_type": "markdown",
            "metadata": {},
            "source": "\n"
        },
        {
            "cell_type": "code",
            "execution_count": null,
            "metadata": {},
            "outputs": [],
            "source": [
                "# check if your convex hull or extent is now larger\n",
                "\n",
                "plot(EVI)\n",
                "lines(LiPe_extent)\n"
            ]
        },
        {
            "cell_type": "markdown",
            "metadata": {},
            "source": "\n"
        },
        {
            "cell_type": "code",
            "execution_count": null,
            "metadata": {},
            "outputs": [],
            "source": [
                "EVI_LiPe<- raster::crop(EVI,LiPe_extent)\n",
                "plot(EVI_LiPe)\n",
                "EVI_LiPe\n"
            ]
        },
        {
            "cell_type": "markdown",
            "metadata": {},
            "source": "\n"
        },
        {
            "cell_type": "code",
            "execution_count": null,
            "metadata": {},
            "outputs": [],
            "source": [
                "EVI_LiPe_mask <- raster::mask(EVI_LiPe,LiPe_extent)\n",
                "plot(EVI_LiPe_mask)\n"
            ]
        },
        {
            "cell_type": "markdown",
            "metadata": {},
            "source": "\n"
        },
        {
            "cell_type": "code",
            "execution_count": null,
            "metadata": {},
            "outputs": [],
            "source": [
                "# create your reference raster, all other rasters will be set to this resolution, extent and CRS, dividing raster by itself sets all values to 1\n",
                "\n",
                "base <- EVI_LiPe_mask/EVI_LiPe_mask\n"
            ]
        },
        {
            "cell_type": "markdown",
            "metadata": {},
            "source": "\n"
        },
        {
            "cell_type": "code",
            "execution_count": null,
            "metadata": {},
            "outputs": [],
            "source": [
                "crs(base)<-crs(EVI)\n",
                "\n"
            ]
        },
        {
            "cell_type": "markdown",
            "metadata": {},
            "source": "\n"
        },
        {
            "cell_type": "code",
            "execution_count": null,
            "metadata": {},
            "outputs": [],
            "source": [
                "plot(base)\n",
                "\n"
            ]
        },
        {
            "cell_type": "markdown",
            "metadata": {},
            "source": "\n"
        },
        {
            "cell_type": "code",
            "execution_count": null,
            "metadata": {},
            "outputs": [],
            "source": [
                "writeRaster(base,\"data/base_LiPe.asc\", overwrite=TRUE)\n",
                "\n"
            ]
        },
        {
            "cell_type": "markdown",
            "metadata": {},
            "source": "\n"
        },
        {
            "cell_type": "code",
            "execution_count": null,
            "metadata": {},
            "outputs": [],
            "source": [
                "getwd()\n",
                "\n"
            ]
        },
        {
            "cell_type": "markdown",
            "metadata": {},
            "source": [
                "# run these lines if you are coming back to the script to load your base layer\n",
                "require(raster)\n",
                "base <- raster(\"data/base_LiPe.asc\")\n",
                "#check that it looks correct\n",
                "plot(base)\n",
                "\n",
                "\n",
                "### spatially thin occurrence records so that only one record is selected randomly from within a Grid cell that is 4 times larger than \"base\"\n"
            ]
        },
        {
            "cell_type": "code",
            "execution_count": null,
            "metadata": {},
            "outputs": [],
            "source": [
                "#aggregate reduce resolution (make grid cells larger) (factor = 4) notice grid cells are now 4 times larger\n",
                "large_base <- aggregate(base, fact=4)\n",
                "res(base)\n",
                "res(large_base)\n"
            ]
        },
        {
            "cell_type": "markdown",
            "metadata": {},
            "source": "\n"
        },
        {
            "cell_type": "code",
            "execution_count": null,
            "metadata": {},
            "outputs": [],
            "source": [
                "LiPe <- read.csv(\"data/Limnodynastes peroni.csv\")\n",
                "LiPe_pts <- sp::SpatialPoints(coords = cbind(LiPe$decimalLongitude, LiPe$decimalLatitude),CRS(as.character(\"+proj=longlat +datum=WGS84 +no_defs\")) )\n",
                "\n",
                "cell_no<- raster::extract(large_base,LiPe_pts,cellnumbers=TRUE)\n",
                "head(cell_no)\n"
            ]
        },
        {
            "cell_type": "markdown",
            "metadata": {},
            "source": "\n"
        },
        {
            "cell_type": "code",
            "execution_count": null,
            "metadata": {},
            "outputs": [],
            "source": [
                "LiPe_cells<- cbind(LiPe,cell_no)\n",
                "\n",
                "head(LiPe_cells)\n"
            ]
        },
        {
            "cell_type": "markdown",
            "metadata": {},
            "source": "\n"
        },
        {
            "cell_type": "code",
            "execution_count": null,
            "metadata": {},
            "outputs": [],
            "source": [
                "require(dplyr)\n",
                "LiPe_thinned <- LiPe_cells %>% \n",
                "  group_by(cells) %>% \n",
                "  slice_sample(n = 1)\n",
                "\n",
                "length(LiPe_thinned$cells)\n"
            ]
        },
        {
            "cell_type": "markdown",
            "metadata": {},
            "source": "\n"
        },
        {
            "cell_type": "code",
            "execution_count": null,
            "metadata": {},
            "outputs": [],
            "source": [
                "# plot to look at results & write results to file\n",
                "\n",
                "LiPe_pts2 <- SpatialPoints(coords = cbind(LiPe_thinned$decimalLongitude, LiPe_thinned$decimalLatitude),CRS(as.character(\"+proj=longlat +datum=WGS84 +no_defs\")) )\n",
                "plot(base)\n",
                "points(LiPe_pts2,pch=20,cex=0.2)\n",
                "\n",
                "write.csv(LiPe_thinned,\"data/LiPe_thinned.csv\")\n"
            ]
        },
        {
            "cell_type": "markdown",
            "metadata": {},
            "source": [
                "# download all FrogID survey records to capture survey effort, spatial sampling bias, and to zero-fill\n",
                "\n"
            ]
        },
        {
            "cell_type": "code",
            "execution_count": null,
            "metadata": {},
            "outputs": [],
            "source": [
                "galah_call() %>%\n",
                "  galah_identify(\"Amphibia\")%>%\n",
                "  galah_filter(datasetName == \"FrogID\")%>%\n",
                "  galah_filter(coordinateUncertaintyInMeters < 100)%>%\n",
                "  galah_filter(stateProvince == \"Queensland\")%>%\n",
                "  galah_select(\"datasetName\")%>%\n",
                "  atlas_counts()\n"
            ]
        },
        {
            "cell_type": "markdown",
            "metadata": {},
            "source": [
                "\n",
                "\n"
            ]
        },
        {
            "cell_type": "code",
            "execution_count": null,
            "metadata": {},
            "outputs": [],
            "source": [
                "frogs <- galah_call() %>%\n",
                "  galah_identify(\"Amphibia\")%>%\n",
                "  galah_filter(datasetName == \"FrogID\")%>%\n",
                "  galah_filter(coordinateUncertaintyInMeters < 100)%>%\n",
                "  galah_filter(stateProvince == \"Queensland\")%>%\n",
                "  galah_select(datasetName,occurrenceID)%>%\n",
                "  atlas_occurrences()\n"
            ]
        },
        {
            "cell_type": "markdown",
            "metadata": {},
            "source": "\n"
        },
        {
            "cell_type": "code",
            "execution_count": null,
            "metadata": {},
            "outputs": [],
            "source": [
                "head(frogs)\n",
                "\n"
            ]
        },
        {
            "cell_type": "markdown",
            "metadata": {},
            "source": "\n"
        },
        {
            "cell_type": "code",
            "execution_count": null,
            "metadata": {},
            "outputs": [],
            "source": [
                "length(frogs$occurrenceID)\n",
                "\n"
            ]
        },
        {
            "cell_type": "markdown",
            "metadata": {},
            "source": "\n"
        },
        {
            "cell_type": "code",
            "execution_count": null,
            "metadata": {},
            "outputs": [],
            "source": [
                "frogs$unique_visit<- paste0(frogs$decimalLatitude,frogs$decimalLongitude,frogs$eventDate)\n",
                "\n"
            ]
        },
        {
            "cell_type": "markdown",
            "metadata": {},
            "source": "\n"
        },
        {
            "cell_type": "code",
            "execution_count": null,
            "metadata": {},
            "outputs": [],
            "source": [
                "length(unique(frogs$unique_visit))\n",
                "\n"
            ]
        },
        {
            "cell_type": "markdown",
            "metadata": {},
            "source": "\n"
        },
        {
            "cell_type": "code",
            "execution_count": null,
            "metadata": {},
            "outputs": [],
            "source": [
                "length(unique(frogs$eventDate))\n",
                "\n"
            ]
        },
        {
            "cell_type": "markdown",
            "metadata": {},
            "source": "\n"
        },
        {
            "cell_type": "code",
            "execution_count": null,
            "metadata": {},
            "outputs": [],
            "source": [
                "frogs$visitID <- as.numeric(as.factor(frogs$unique_visit))\n",
                "\n"
            ]
        },
        {
            "cell_type": "markdown",
            "metadata": {},
            "source": "\n"
        },
        {
            "cell_type": "code",
            "execution_count": null,
            "metadata": {},
            "outputs": [],
            "source": [
                "length(unique(frogs$visitID))\n",
                "\n"
            ]
        },
        {
            "cell_type": "markdown",
            "metadata": {},
            "source": "\n"
        },
        {
            "cell_type": "code",
            "execution_count": null,
            "metadata": {},
            "outputs": [],
            "source": [
                "head(frogs$visitID, 100)\n",
                "\n"
            ]
        },
        {
            "cell_type": "markdown",
            "metadata": {},
            "source": "\n"
        },
        {
            "cell_type": "code",
            "execution_count": null,
            "metadata": {},
            "outputs": [],
            "source": [
                "head(frogs)\n",
                "\n"
            ]
        },
        {
            "cell_type": "markdown",
            "metadata": {},
            "source": "\n"
        },
        {
            "cell_type": "code",
            "execution_count": null,
            "metadata": {},
            "outputs": [],
            "source": [
                "names(frogs)\n",
                "\n"
            ]
        },
        {
            "cell_type": "markdown",
            "metadata": {},
            "source": "\n"
        },
        {
            "cell_type": "code",
            "execution_count": null,
            "metadata": {},
            "outputs": [],
            "source": [
                "frogs2<-frogs[,c(1,3:6,11)]\n",
                "\n"
            ]
        },
        {
            "cell_type": "markdown",
            "metadata": {},
            "source": "\n"
        },
        {
            "cell_type": "code",
            "execution_count": null,
            "metadata": {},
            "outputs": [],
            "source": [
                "head(frogs2)\n",
                "\n"
            ]
        },
        {
            "cell_type": "markdown",
            "metadata": {},
            "source": "\n"
        },
        {
            "cell_type": "code",
            "execution_count": null,
            "metadata": {},
            "outputs": [],
            "source": [
                "getwd()\n",
                "\n"
            ]
        },
        {
            "cell_type": "markdown",
            "metadata": {},
            "source": "\n"
        },
        {
            "cell_type": "code",
            "execution_count": null,
            "metadata": {},
            "outputs": [],
            "source": [
                "write.csv(frogs2,\"raw_data/FrogID_all_ALA_Mar2022.csv\")\n",
                "\n"
            ]
        },
        {
            "cell_type": "markdown",
            "metadata": {},
            "source": "\n"
        },
        {
            "cell_type": "code",
            "execution_count": null,
            "metadata": {},
            "outputs": [],
            "source": [
                "require(dplyr)\n",
                "names(frogs2)\n"
            ]
        },
        {
            "cell_type": "markdown",
            "metadata": {},
            "source": "\n"
        },
        {
            "cell_type": "code",
            "execution_count": null,
            "metadata": {},
            "outputs": [],
            "source": [
                "#Richness on each visit\n",
                "frogs3 <- frogs2 %>%\n",
                "  group_by(decimalLatitude, decimalLongitude, visitID) %>%\n",
                "  summarise(no_spp = length(unique(scientificName)))\n"
            ]
        },
        {
            "cell_type": "markdown",
            "metadata": {},
            "source": "\n"
        },
        {
            "cell_type": "code",
            "execution_count": null,
            "metadata": {},
            "outputs": [],
            "source": [
                "head(frogs3)\n",
                "\n"
            ]
        },
        {
            "cell_type": "markdown",
            "metadata": {},
            "source": "\n"
        },
        {
            "cell_type": "code",
            "execution_count": null,
            "metadata": {},
            "outputs": [],
            "source": [
                "length(frogs3$decimalLatitude)\n",
                "\n"
            ]
        },
        {
            "cell_type": "markdown",
            "metadata": {},
            "source": "\n"
        },
        {
            "cell_type": "code",
            "execution_count": null,
            "metadata": {},
            "outputs": [],
            "source": [
                "summary(frogs3$no_spp)\n",
                "\n"
            ]
        },
        {
            "cell_type": "markdown",
            "metadata": {},
            "source": "\n"
        },
        {
            "cell_type": "code",
            "execution_count": null,
            "metadata": {},
            "outputs": [],
            "source": [
                "# calculate the number of visits to the same lat long location\n",
                "frogs4 <- frogs3 %>%\n",
                "  group_by(decimalLatitude, decimalLongitude) %>%\n",
                "  summarise(no_visits = length(visitID))\n"
            ]
        },
        {
            "cell_type": "markdown",
            "metadata": {},
            "source": "\n"
        },
        {
            "cell_type": "code",
            "execution_count": null,
            "metadata": {},
            "outputs": [],
            "source": [
                "length(frogs4$decimalLatitude)\n",
                "\n"
            ]
        },
        {
            "cell_type": "markdown",
            "metadata": {},
            "source": "\n"
        },
        {
            "cell_type": "code",
            "execution_count": null,
            "metadata": {},
            "outputs": [],
            "source": [
                "summary(frogs4$no_visits)\n",
                "# note there were 448 visits to one lat long location, but most locations only had one visit\n"
            ]
        },
        {
            "cell_type": "markdown",
            "metadata": {},
            "source": "\n"
        },
        {
            "cell_type": "code",
            "execution_count": null,
            "metadata": {},
            "outputs": [],
            "source": [
                "require(sp)\n",
                "visits_pts<-SpatialPoints(coords = cbind(frogs4$decimalLongitude, frogs4$decimalLatitude),CRS(as.character(\"+proj=longlat +datum=WGS84 +no_defs\")))\n"
            ]
        },
        {
            "cell_type": "markdown",
            "metadata": {},
            "source": "\n"
        },
        {
            "cell_type": "code",
            "execution_count": null,
            "metadata": {},
            "outputs": [],
            "source": [
                "#woops we need to include only those points within our study area\n",
                "plot(base)\n",
                "points(visits_pts,pch=20,cex=0.2)\n"
            ]
        },
        {
            "cell_type": "markdown",
            "metadata": {},
            "source": [
                "\n",
                "\n"
            ]
        },
        {
            "cell_type": "code",
            "execution_count": null,
            "metadata": {},
            "outputs": [],
            "source": [
                "# This creates a raster that totals the total number of visits at each \n",
                "# Lat / long location\n",
                "b1 <- rasterize(visits_pts, base, frogs4$no_visits, fun=sum, background=0)\n",
                "b1\n"
            ]
        },
        {
            "cell_type": "markdown",
            "metadata": {},
            "source": [
                "This is one way to generate a bias file, simply make a layer where the value in each cell = the number of surveys done in that cell. Maxent will not work with values of zero in the bias file, so below we add 1 to each cell value in our study area (all values in base = 1). Here you can see that there are too few points to show up on a map.  If unable to add the bias layer directly into Maxent (args = c(\"biaslayer = bias\")) - this method does not work for me and unfortunately means that when using R it is not using the FACTORBIASOUT argument, but a work around is to account for bias within Maxent by using your bias grid to determine the probability of sampling that grid cell to generate your background.  Here most of the values in the grid are the same value of 1 which in our case means no sampling was done there.  So in this example we have a number of sites with an increased probability of being selected as a background point in Maxent, but most of the study area has the same low probability of being selected as background.  (Some people might choose to use this)\n",
                "\n"
            ]
        },
        {
            "cell_type": "code",
            "execution_count": null,
            "metadata": {},
            "outputs": [],
            "source": [
                "numb_visits_bias <- b1+base\n",
                "\n"
            ]
        },
        {
            "cell_type": "markdown",
            "metadata": {},
            "source": [
                "# Below we highlight an alternative method to generate a bias grid. If we assume areas close to areas where surveys have been conducted \n",
                "# are more likely to have been surveyed, so there is a general spatial sampling bias, we may want to identify those spatial locations \n",
                "# where data was more likely to have come from. you can do this kind of thing with a focal function (see step 2 script),\n",
                "#  but furthe below we generate a smoothed spatial surface where the probability of an area being sampled is a function of distance and \n",
                "# sampling intensity. Using a Kernel density function is one way to do this. \n"
            ]
        },
        {
            "cell_type": "code",
            "execution_count": null,
            "metadata": {},
            "outputs": [],
            "source": [
                "bb <- bbox(b1)\n",
                "\n"
            ]
        },
        {
            "cell_type": "markdown",
            "metadata": {},
            "source": "\n"
        },
        {
            "cell_type": "code",
            "execution_count": null,
            "metadata": {},
            "outputs": [],
            "source": [
                "visit_locations<- raster::extract(b1, visits_pts, cellnumbers=TRUE)\n",
                "\n"
            ]
        },
        {
            "cell_type": "markdown",
            "metadata": {},
            "source": [
                "\n",
                "\n"
            ]
        },
        {
            "cell_type": "code",
            "execution_count": null,
            "metadata": {},
            "outputs": [],
            "source": [
                "# these are the points that only occur in the study area\n",
                "visit_locations2 <- as.data.frame(na.omit(visit_locations))\n"
            ]
        },
        {
            "cell_type": "markdown",
            "metadata": {},
            "source": [
                "# \n",
                "\n"
            ]
        },
        {
            "cell_type": "code",
            "execution_count": null,
            "metadata": {},
            "outputs": [],
            "source": [
                "cellID <- unique(visit_locations2$cells)\n",
                "\n"
            ]
        },
        {
            "cell_type": "markdown",
            "metadata": {},
            "source": "\n"
        },
        {
            "cell_type": "code",
            "execution_count": null,
            "metadata": {},
            "outputs": [],
            "source": [
                "xy_visits <- xyFromCell(b1,cell = cellID)\n",
                "\n"
            ]
        },
        {
            "cell_type": "markdown",
            "metadata": {},
            "source": [
                "\n",
                "\n"
            ]
        },
        {
            "cell_type": "code",
            "execution_count": null,
            "metadata": {},
            "outputs": [],
            "source": [
                "lg<-c(bb[1,1],bb[1,2])\n",
                "lt<-c(bb[2,1],bb[2,2])\n",
                "coordss<-cbind(lg,lt)\n",
                "v_xy2<-rbind(xy_visits,coordss)\n"
            ]
        },
        {
            "cell_type": "markdown",
            "metadata": {},
            "source": [
                "For some of these functions kde2d, and xyFromCell I had to increase my local R-environ memory size\n",
                "Step 1: Open terminal,\n",
                "\n",
                "Step 2:\n",
                "\n",
                "cd ~\n",
                "touch .Renviron\n",
                "open .Renviron\n",
                "Step 3: Save the following as the first line of .Renviron:\n",
                "\n",
                "R_MAX_VSIZE=100Gb \n"
            ]
        },
        {
            "cell_type": "code",
            "execution_count": null,
            "metadata": {},
            "outputs": [],
            "source": [
                "require(MASS)\n",
                "\n",
                "dens <- kde2d(v_xy2[,1], v_xy2[,2], n = c(nrow(b1), ncol(b1)))\n",
                "b5 <- raster(dens)\n",
                "plot(b5)\n"
            ]
        },
        {
            "cell_type": "markdown",
            "metadata": {},
            "source": "\n"
        },
        {
            "cell_type": "code",
            "execution_count": null,
            "metadata": {},
            "outputs": [],
            "source": [
                "b6<-projectRaster(b5,base)\n",
                "\n"
            ]
        },
        {
            "cell_type": "markdown",
            "metadata": {},
            "source": "\n"
        },
        {
            "cell_type": "code",
            "execution_count": null,
            "metadata": {},
            "outputs": [],
            "source": [
                "b7<-mask(b6,base)\n",
                "plot(b7)\n",
                "\n",
                "writeRaster(b7,\"data/Bias_LiPe_kd.asc\",overwrite=TRUE)\n"
            ]
        },
        {
            "cell_type": "markdown",
            "metadata": {},
            "source": [
                "Now lets clean up our global environment, and get rid some of these big files\n",
                "\n"
            ]
        },
        {
            "cell_type": "code",
            "execution_count": null,
            "metadata": {},
            "outputs": [],
            "source": [
                "rm(b5)\n",
                "rm(b6)\n",
                "rm(EVI)\n",
                "rm(EVI_LiPe)\n",
                "rm(EVI_LiPe_mask)\n",
                "rm(frogs2)\n",
                "rm(frogs3)\n",
                "rm(visit_locations)\n"
            ]
        },
        {
            "cell_type": "markdown",
            "metadata": {},
            "source": [
                "# Zero filling\n",
                "In order to identify locations that were surveyed but where LiPe was not detected.\n",
                "\n",
                "The FrogID project attempts to identify all frog species that were heard during a period of sound recording. While there is a possibility that frogs were present but not detected it is correct to assume that if the target species was not recorded on a certain date and time at a specific lat/long the there was a zero detection.  You can then make some assumptions around the number of surveys needed to be sure there were no frogs detected, while understanding that the spatial resolution of the modelling you are doing may include many frog habitats some of which may not have been surveyed.  Still this method of generating pseudo-absences is at least putting zeros in areas where surveys were done, but the species was not detected. If you relax the assumptions further, then species for which counts are usually inclusive of all the species detected (like bird lists), those cells where 10 (the number of surveys will vary by species dataset etc) surveys have been done but which did not detect the target species can be assumed to have zero of that species.\n",
                "\n",
                "The raster layer we created and named b1 has the number of surveys at all the locations where frogs were surveyed.  First, we are going to check how many cells have a value of 3 or higher.  So is there enough data to produce pseudo-absence zeros if we assume that when three visits were done in a grid cell we should have identified our target species (here striped marsh frog).  In a perfect world we may have needed 10 surveys at each of the habitats within each of the grid cells in order to be certain that the frog is truly absent from this location. Here we have some evidence that the frog was not present, and we have the B1 raster which captures survey effort which is a useful covariate in occupancy modelling (something we won't go into here).\n"
            ]
        },
        {
            "cell_type": "code",
            "execution_count": null,
            "metadata": {},
            "outputs": [],
            "source": [
                "# reclassify raster with number of surveys to 1 if more than 2 surveys were done, and zero otherwise\n",
                "\n",
                "m <- c(0, 2.9, 0,  2.9, 3247, 1)\n",
                "reclass <- matrix(m, ncol= 3, byrow= TRUE)\n",
                "rc <- reclassify(b1, reclass)\n"
            ]
        },
        {
            "cell_type": "markdown",
            "metadata": {},
            "source": "\n"
        },
        {
            "cell_type": "code",
            "execution_count": null,
            "metadata": {},
            "outputs": [],
            "source": [
                "visits_3or_more <- mask(rc,base)\n",
                "# since all values are 1 or zero and ones are where there were three or more visits, cellStats gives us the number of grid cells where FrogID surveys were conducted (9196) in our case\n",
                "freq(visits_3or_more)\n"
            ]
        },
        {
            "cell_type": "markdown",
            "metadata": {},
            "source": "\n"
        },
        {
            "cell_type": "code",
            "execution_count": null,
            "metadata": {},
            "outputs": [],
            "source": [
                "#create a vector of 1's of the same length as the LiPe_pres\n",
                "LiPe_pres<- rep(1,length(LiPe$decimalLatitude))\n",
                "\n",
                "# Then create a raster with a value of 1 for each gridcell where a LiPe was recorded\n",
                "LiPe_pres_raster<-rasterize(LiPe_pts,base,LiPe_pres, fun = min, background=0)\n",
                "\n",
                "LiPe_pres_raster2<-mask(LiPe_pres_raster,base)\n"
            ]
        },
        {
            "cell_type": "markdown",
            "metadata": {},
            "source": "\n"
        },
        {
            "cell_type": "code",
            "execution_count": null,
            "metadata": {},
            "outputs": [],
            "source": [
                "#How many grid cells of the pre-thinned data had LIPE recorded in them\n",
                "freq(LiPe_pres_raster2)\n"
            ]
        },
        {
            "cell_type": "markdown",
            "metadata": {},
            "source": "\n"
        },
        {
            "cell_type": "code",
            "execution_count": null,
            "metadata": {},
            "outputs": [],
            "source": [
                "# confirm that your two raters are the same extent, CRS, resolution etc\n",
                "compareRaster(LiPe_pres_raster2,visits_3or_more,extent=TRUE, rowcol=TRUE, crs=TRUE, res=TRUE, orig=TRUE,rotation=TRUE, values=FALSE)\n"
            ]
        },
        {
            "cell_type": "markdown",
            "metadata": {},
            "source": [
                "\n",
                "\n"
            ]
        },
        {
            "cell_type": "code",
            "execution_count": null,
            "metadata": {},
            "outputs": [],
            "source": [
                "Zero_LiPe <- visits_3or_more - LiPe_pres_raster2\n",
                "# note there are 3179 locations with a value of -1 indicating the number of locations where LiPe was the only species observed in that grid cell, while 5617 cells have a value of 1, these are cells where frogs other than LiPe were recorded and we will consider these zeros from here on.  This is not enough zeros to use as a targeted background in Maxent (usually best to go with 10,000 background locations), but it is enough for most other methods that require zeros BRT, GLM etc.\n",
                "freq(Zero_LiPe)\n"
            ]
        },
        {
            "cell_type": "markdown",
            "metadata": {},
            "source": [
                "\n",
                "\n"
            ]
        },
        {
            "cell_type": "code",
            "execution_count": null,
            "metadata": {},
            "outputs": [],
            "source": [
                "#reclassify so a zero raster has the value of 1 for all LiPe zeros, and NA or 0 for all other values\n",
                "m <- c(-2, 0.1, 0,  0.1, 2, 1)\n",
                "reclass2 <- matrix(m, ncol= 3, byrow= TRUE)\n",
                "rc2 <- reclassify(Zero_LiPe, reclass2)\n",
                "Zero_LiPe2<-mask(rc2,base)\n",
                "freq(Zero_LiPe2)\n"
            ]
        },
        {
            "cell_type": "markdown",
            "metadata": {},
            "source": [
                "\n",
                "\n"
            ]
        },
        {
            "cell_type": "code",
            "execution_count": null,
            "metadata": {},
            "outputs": [],
            "source": [
                "# extract the cell numbers from the 0 grid where the value ==1\n",
                "cell_vals_0<-Which(Zero_LiPe2 ==1,cells=TRUE)\n",
                "# these are the lat / longs for locations where at least three surveys were done, but zero LiPe were detected - these are our pseudo absences\n",
                "xy_zero_LiPe <- xyFromCell(Zero_LiPe2,cell = cell_vals_0)\n",
                "#plot the absence locations\n",
                "plot(base)\n",
                "points(xy_zero_LiPe, pch=20,cex=0.2)\n"
            ]
        },
        {
            "cell_type": "markdown",
            "metadata": {},
            "source": "\n"
        },
        {
            "cell_type": "code",
            "execution_count": null,
            "metadata": {},
            "outputs": [],
            "source": [
                "# plot the presence locations\n",
                "plot(base)\n",
                "points(LiPe[ , c(\"decimalLongitude\", \"decimalLatitude\")], pch = \".\")\n"
            ]
        },
        {
            "cell_type": "markdown",
            "metadata": {},
            "source": [
                "# we will use these pseudo absences for BRT & GLM later\n",
                "\n"
            ]
        },
        {
            "cell_type": "code",
            "execution_count": null,
            "metadata": {},
            "outputs": [],
            "source": [
                "LiPe_zeros<-as.data.frame(xy_zero_LiPe)\n",
                "colnames(LiPe_zeros)<-c(\"Long\",\"Lat\")\n",
                "LiPe_zeros$spp<-\"Limnodynastes_peroni\"\n",
                "LiPe_zeros$pres<- 0\n",
                "write.csv(LiPe_zeros,\"data/LiPe_zero_locations_3vis.csv\")\n",
                "\n",
                "writeRaster(Zero_LiPe2,\"data/LiPe_absences1_3vis.asc\",overwrite=TRUE)\n",
                "\n",
                "zeros_3visit <- read.csv(\"data/LiPe_zero_locations_3vis.csv\")\n"
            ]
        },
        {
            "cell_type": "markdown",
            "metadata": {},
            "source": [
                "\n",
                "\n"
            ]
        },
        {
            "cell_type": "code",
            "execution_count": null,
            "metadata": {},
            "outputs": [],
            "source": [
                "# reclassify raster with number of surveys to 1 if more than 1 surveys was done, and zero otherwise\n",
                "\n",
                "m <- c(0, 0.9, 0,  0.9, 3247, 1)\n",
                "reclass3 <- matrix(m, ncol= 3, byrow= TRUE)\n",
                "rc3 <- reclassify(b1, reclass3)\n",
                "freq(rc3)\n"
            ]
        },
        {
            "cell_type": "markdown",
            "metadata": {},
            "source": "\n"
        },
        {
            "cell_type": "code",
            "execution_count": null,
            "metadata": {},
            "outputs": [],
            "source": [
                "# It is a good idea to check your work as you go.  Plotting data, looking at freq are some ways to do this.  Here we double check that the number of cells with values greater than 1 in our b1 raster match the number of 1's in the reclassification\n",
                "\n",
                "t1<-as.data.frame(freq(b1))\n",
                "sum(t1$count)-t1[1,2]\n",
                "\n",
                "# sure enough freq of rc3 returns 29161 cells with a value of 1, and the sum of cell counts with values greater than 1 in the original b1 raster are also 29161\n",
                "\n",
                "# Why am I showing this?  Because my first attempt at generating the rc3 raster did not have equal numbers using a different method, and a typo in my first reclassification call kept these numbers separate.  It is just a good idea to always verify that what you think you did in your code do not have any errors.\n"
            ]
        },
        {
            "cell_type": "markdown",
            "metadata": {},
            "source": [
                "\n",
                "\n"
            ]
        },
        {
            "cell_type": "code",
            "execution_count": null,
            "metadata": {},
            "outputs": [],
            "source": [
                "visits_1or_more <- mask(rc3,base)\n",
                "freq(visits_1or_more)\n"
            ]
        },
        {
            "cell_type": "markdown",
            "metadata": {},
            "source": [
                "\n",
                "\n"
            ]
        },
        {
            "cell_type": "code",
            "execution_count": null,
            "metadata": {},
            "outputs": [],
            "source": [
                "# confirm that your two raters are the same extent, CRS, resolution etc\n",
                "compareRaster(LiPe_pres_raster2,visits_1or_more,extent=TRUE, rowcol=TRUE, crs=TRUE, res=TRUE, orig=TRUE,rotation=TRUE, values=FALSE)\n"
            ]
        },
        {
            "cell_type": "markdown",
            "metadata": {},
            "source": [
                "\n",
                "\n"
            ]
        },
        {
            "cell_type": "code",
            "execution_count": null,
            "metadata": {},
            "outputs": [],
            "source": [
                "Zero_LiPe1visit <- visits_1or_more - LiPe_pres_raster2\n",
                "freq(Zero_LiPe1visit)\n",
                "# here we have 22134 grid cells where another frog(s) was recorded but not our target spp.  We only need 10,000 cells (usually) for a targeted background in Maxent, so we can afford to do some spatial thinning. (If we don't have close to 10,000 grid cells after spatial thinning, we will just use the kde bias layer)\n"
            ]
        },
        {
            "cell_type": "markdown",
            "metadata": {},
            "source": "\n"
        },
        {
            "cell_type": "code",
            "execution_count": null,
            "metadata": {},
            "outputs": [],
            "source": [
                "cell_vals_0_1 <- Which(Zero_LiPe1visit==1,cells=TRUE)\n",
                "\n",
                "xy_zero_LiPe_1vis <- as.data.frame(xyFromCell(Zero_LiPe2,cell = cell_vals_0_1))\n",
                "\n",
                "colnames(xy_zero_LiPe_1vis)<-c(\"Long\",\"Lat\")\n",
                "xy_zero_LiPe_1vis$spp<-\"Limnodynastes_peroni\"\n",
                "xy_zero_LiPe_1vis$pres<- 0\n",
                "write.csv(xy_zero_LiPe_1vis,\"data/LiPe_zero_locations_1vis.csv\")\n",
                "\n",
                "LiPe_pts2 <- SpatialPoints(coords = cbind(xy_zero_LiPe_1vis$Long, xy_zero_LiPe_1vis$Lat),CRS(as.character(\"+proj=longlat +datum=WGS84 +no_defs\")) )\n",
                "cell_no2<- as.data.frame(raster::extract(large_base,LiPe_pts2,cellnumbers=TRUE))\n",
                "\n",
                "head(cell_no2)\n"
            ]
        },
        {
            "cell_type": "markdown",
            "metadata": {},
            "source": [
                "# notice here I did not need to use a subsequent colnames function\n",
                "\n"
            ]
        },
        {
            "cell_type": "code",
            "execution_count": null,
            "metadata": {},
            "outputs": [],
            "source": [
                "LiPe_cells2<- as.data.frame(cbind(Long = xy_zero_LiPe_1vis$Long, Lat = xy_zero_LiPe_1vis$Lat,cell_no = cell_no2$cells))\n",
                "\n",
                "head(LiPe_cells2)\n",
                "\n",
                "require(dplyr)\n",
                "LiPe_zeros_thinned_1vis <- LiPe_cells2 %>% \n",
                "  group_by(cell_no) %>% \n",
                "  slice_sample(n = 1)\n",
                "\n",
                "length(LiPe_zeros_thinned_1vis$cell_no)\n"
            ]
        },
        {
            "cell_type": "markdown",
            "metadata": {},
            "source": [
                "\n",
                "# note this in this object there is still more, than 10,000 areas where frog surveys were done, but no LiPe were recorded. We might see how many cells we would have if there were two or more visits, and then thin that result, but we will try to use these and the points from the bias layer to fit our models.  There are trade-offs with every modelling decision, some are important for your result, some do not really impact the result.  Your decisions on what is best for your model depends on your question, the available data, the ecology of your species, and an understanding of what has worked or is important according to the literature for your species and your kind of question.\n"
            ]
        },
        {
            "cell_type": "code",
            "execution_count": null,
            "metadata": {},
            "outputs": [],
            "source": [
                "LiPe_zeros_thinned_1vis$spp<-\"Limnodynastes_peroni\"\n",
                "LiPe_zeros_thinned_1vis$pres<- 0\n",
                "head(LiPe_zeros_thinned_1vis)\n",
                "write.csv(LiPe_zeros_thinned_1vis,\"data/LiPe_zero_locations_thinned_1vis.csv\")\n"
            ]
        },
        {
            "cell_type": "markdown",
            "metadata": {},
            "source": [
                "\n",
                "# note if you just use head(LiPe_zeros_thinned_1vis), you won't see all the decimal points in Long and Lat, print.data.frame shows all the decimal\n"
            ]
        },
        {
            "cell_type": "code",
            "execution_count": null,
            "metadata": {},
            "outputs": [],
            "source": [
                "print.data.frame(head(LiPe_zeros_thinned_1vis))\n",
                "\n"
            ]
        },
        {
            "cell_type": "markdown",
            "metadata": {},
            "source": [
                "\n",
                "# It is often a good idea to break your data into randomly selected training and testing data.  Often you would randomly remove 20% or more of your data and withold that from the model building process.  Once your model was finsihed using your training data, you would then test your model with this training data. If you have very little data, bootstrapping can be used to see if removal of a small percentage of data repeatedly changes results.  This gives you a good understanding of the confidence intervals around your results and can reduce the impact of outliers on your final result.  Cross-validation requires more data.  Ideally for cross-validation you break your data into 10 folds (subsets) and compare results between folds, or summarise variability between folds. Some people select folds spatially, with each fold an independent spatial block of data, but random folds seem to work just as well or better. If you can afford to set aside 20% + of your data, withholding a test data set is good practice.  Ideally, you will test your model with completely independent data.\n"
            ]
        }
    ],
    "metadata": {
        "anaconda-cloud": "",
        "kernelspec": {
            "display_name": "R",
            "langauge": "R",
            "name": "ir"
        },
        "language_info": {
            "codemirror_mode": "r",
            "file_extension": ".r",
            "mimetype": "text/x-r-source",
            "name": "R",
            "pygments_lexer": "r",
            "version": "3.4.1"
        }
    },
    "nbformat": 4,
    "nbformat_minor": 1
}

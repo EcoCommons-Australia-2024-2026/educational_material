{
    "cells": [
        {
            "cell_type": "markdown",
            "metadata": {},
            "source": "\n"
        },
        {
            "cell_type": "code",
            "execution_count": null,
            "metadata": {},
            "outputs": [],
            "source": [
                "knitr::opts_chunk$set(echo = TRUE)\n",
                "\n"
            ]
        },
        {
            "cell_type": "markdown",
            "metadata": {},
            "source": [
                "We recommend going to this google link and downloading the whole\n",
                "of the \"Marine\" folder and then putting it in your local directory.  You may \n",
                "need to merge multiple folders from the download, the raw data files are large.\n",
                " https://drive.google.com/drive/folders/19YemtBtbZbdtwDYcorKOyzlBCNHvRv9h?usp=sharing\n"
            ]
        },
        {
            "cell_type": "code",
            "execution_count": null,
            "metadata": {},
            "outputs": [],
            "source": [
                "getwd()\n",
                "\n"
            ]
        },
        {
            "cell_type": "markdown",
            "metadata": {},
            "source": [
                "You may need to reset your local directory, and keep in mind directories are treated differently in R, Rmarkdown, and Jupyter\n",
                "\n",
                "setwd(\"~/Downloads/Marine\") # set this to your local directory if needed\n",
                "\n",
                "You can download records directly from the Atlas of Living Australia and this\n",
                "includes IMOS records. The exact data we used to generate the use case is available through the google line:41 below.\n",
                "Keep in mind with stochastic learning algorithms like Maxent, results may vary somewhat from run to run, even if using the same data.\n",
                "\n",
                "Again, we recommend downloading directly from a large database each time you start a new model, but here we got some additional records from AODN which are not in the ALA data, so use the google link (line 41) to replicate our results. Note our ALA download includes WA near-coastal records, and does not include SA near-coastal data which were in the cleaned IMOS AODN data.\n",
                "\n",
                "Below we provide an ALA download example\n",
                "\n",
                "There are a few steps you need to take to download records from ALA\n",
                "First, you need to register with ALA you can register here: https://auth.ala.org.au/userdetails/registration/createAccount \n",
                " then run the config function in R galah_config(email = \"your-email@email.com\") This email needs to be registered with ALA\n"
            ]
        },
        {
            "cell_type": "code",
            "execution_count": null,
            "metadata": {},
            "outputs": [],
            "source": [
                "require(galah)\n",
                "require(terra)\n",
                "require(tidyverse)\n",
                "require(googledrive)\n",
                "require(purrr)\n"
            ]
        },
        {
            "cell_type": "markdown",
            "metadata": {},
            "source": [
                "\n",
                "\n"
            ]
        },
        {
            "cell_type": "code",
            "execution_count": null,
            "metadata": {},
            "outputs": [],
            "source": [
                "galah_config(email = \"r.clemens@griffith.edu.au\") # replace my email with the email you registered to ALA with\n",
                "\n",
                "YT <- galah_call() %>%\n",
                "  galah_identify(\"Seriola lalandi\")%>%\n",
                "  galah_filter(basisOfRecord == \"MACHINE_OBSERVATION\" | basisOfRecord == \"HUMAN_OBSERVATION\")%>%\n",
                "  galah_filter(coordinateUncertaintyInMeters < 501)%>%\n",
                "  galah_filter(year > 2011)%>%\n",
                "  galah_select(\"month\")%>%\n",
                "  atlas_occurrences()\n"
            ]
        },
        {
            "cell_type": "markdown",
            "metadata": {},
            "source": [
                "Use atlas_counts() instead of atlas_occurrences() if you want just a count of the number of records in your query\n",
                "\n",
                "To use the same occurrence data as we did in the marine use case, download the data from Google, link below.\n",
                "We use direct links to get a google drive file url which will download  https://sites.google.com/site/gdocs2direct/\n"
            ]
        },
        {
            "cell_type": "code",
            "execution_count": null,
            "metadata": {},
            "outputs": [],
            "source": [
                "YT <- read.csv(\"https://drive.google.com/uc?export=download&id=1CRv5ZWIS-jWwnz9VH4kng1A_Ts053wA_\", stringsAsFactors = FALSE)\n",
                "# when checking the data, there is a negative latitude which plots to an odd place, so we will filter out that data.\n",
                "YT_2 <- YT[YT$lon >0,]\n",
                "\n",
                "YT_pts <- terra::vect(YT_2, geom=c(\"lon\", \"lat\")) # this turns the dataframe into a spatial points layer with attributes\n",
                "\n",
                "# look at your data\n",
                "YT_pts\n",
                "plot(YT_pts)\n"
            ]
        },
        {
            "cell_type": "markdown",
            "metadata": {},
            "source": [
                "Now we are going to upload some bathemetry data\n",
                "\n"
            ]
        },
        {
            "cell_type": "code",
            "execution_count": null,
            "metadata": {},
            "outputs": [],
            "source": [
                "bath <- rast(\"https://drive.google.com/uc?export=download&id=1uSOShdrsuz4OBmzGu0yvyP7XjRlrQnfS\")\n",
                "crs(bath)\n",
                "plot(bath)\n",
                "points(YT_pts)\n"
            ]
        },
        {
            "cell_type": "markdown",
            "metadata": {},
            "source": [
                "Next we use a focal function on the edge of the raster to estimate bathemetry values at near-coastal areas where bathymetry data is missing by specifying arguments (na.policy=\"only\",na.rm=T), by averaging values within 7 grid cells\n",
                "\n"
            ]
        },
        {
            "cell_type": "code",
            "execution_count": null,
            "metadata": {},
            "outputs": [],
            "source": [
                "wt <- matrix (data = 1, nrow = 7, ncol = 7)\n",
                "bath2 <- terra::focal(bath, w=wt, fun=\"mean\", na.policy=\"only\", na.rm=T) \n",
                "plot(bath2)\n"
            ]
        },
        {
            "cell_type": "markdown",
            "metadata": {},
            "source": [
                "Next we verify that we now have bathemetry data at all the sensor locations, including those in shallow water\n",
                "\n"
            ]
        },
        {
            "cell_type": "code",
            "execution_count": null,
            "metadata": {},
            "outputs": [],
            "source": [
                "YT_bath <- terra::extract(bath2,YT[,c(4,3)])\n",
                "summary(YT_bath)\n",
                "# then write the result as a GeoTif\n",
                "dir.create(\"data1\", showWarnings = FALSE)\n",
                "writeRaster(bath2,paste0(getwd(),\"/\",(\"data1/bathemetry.tif\")),overwrite=TRUE)\n"
            ]
        },
        {
            "cell_type": "markdown",
            "metadata": {},
            "source": [
                "Note: we dropped the 'ucur' variable after initial analysis (it added little to the result). We also dropped the distance from the coast & bathymetry variables (both resulted in under-prediction far from the coast)\n",
                "\n",
                "Below we show one example of how to geneerate a BIAS layer\n",
                "\n",
                "AODN sensors are deployed at shallow areas around the Australian continent and the sensors detect any tagged fish that swims by a sensor. Evironmental conditions far from the locations where sensors have been deployed are unlikely to be represented in the occurrence data.\n"
            ]
        },
        {
            "cell_type": "code",
            "execution_count": null,
            "metadata": {},
            "outputs": [],
            "source": [
                "stations <- read.csv(\"IMOS_array_summarised.csv\")\n",
                "st_xy <- cbind(stations$lon,stations$lat)\n",
                "colnames(st_xy)<- c(\"Long\",\"Lat\")\n",
                "days <- stations$days_deployed\n",
                "b1 <- terra::rasterize(st_xy,bath2,days,fun=sum,background=1)\n",
                "plot(b1)\n",
                "b1\n",
                "summary(b1)\n",
                "\n",
                "b2 <- terra::project(b1,bath2)\n",
                "plot(b2)\n",
                "b3<-mask(b2,bath2)\n",
                "plot(b3)  # if there had been enough sampling in enouch cells this could be the bias layer\n",
                "terra::ext(b3)\n",
                "lg<-c(109.2333,163.2)\n",
                "lt<-c(-47.2,-8.875)\n",
                "coordss<-cbind(lg,lt)\n",
                "st_xy2<-rbind(st_xy,coordss) # this step ensures we have coordinates\n",
                "#  needed to calculate a kernal density for the entire extent\n"
            ]
        },
        {
            "cell_type": "markdown",
            "metadata": {},
            "source": [
                "Now we use a two dimensional density kernal to capture spatial bias in sampling of environmental space (geographic distance is used as proxy of environmental space)\n",
                "\n"
            ]
        },
        {
            "cell_type": "code",
            "execution_count": null,
            "metadata": {},
            "outputs": [],
            "source": [
                "require(MASS)\n",
                "\n",
                "dens <- kde2d(st_xy2[,1], st_xy2[,2], n = c(nrow(b2), ncol(b2)))\n",
                "b4<-raster::raster(dens)\n",
                "plot(b4)\n",
                "b4a<-terra::rast(b4)\n",
                "b5 <- terra::project(b4a,bath2)\n",
                "plot(b5)\n",
                "\n",
                "b6 <- mask(b5,bath2)\n",
                "plot(b6)\n",
                "\n",
                "dir.create(\"bias\",showWarnings = FALSE)\n",
                "writeRaster(b6,paste0(getwd(),\"/\",(\"bias/Bias_AODN.tif\")),overwrite=TRUE)\n"
            ]
        },
        {
            "cell_type": "markdown",
            "metadata": {},
            "source": [
                "Next we are going to summarise the available raw data into monthly averages.\n",
                "\n",
                "First, we need to create some directories. Note the formatting of the paste0 directory can be fiddly depending on your local environment.\n"
            ]
        },
        {
            "cell_type": "code",
            "execution_count": null,
            "metadata": {},
            "outputs": [],
            "source": [
                "dir.create(\"monthly_predictors\",showWarnings = FALSE)\n",
                "\n",
                "sub_dirs <- c(\"01\",\"02\",\"03\",\"04\",\"05\",\"06\",\"07\",\"08\",\"09\",\"10\",\"11\",\"12\")\n",
                "\n",
                "for(i in 1:length(sub_dirs)){\n",
                "  dir.create(paste0(\"~/Downloads/Marine/monthly_predictors/\",sub_dirs[i]))\n",
                "}\n"
            ]
        },
        {
            "cell_type": "markdown",
            "metadata": {},
            "source": [
                "Now we will generate monthly data for chl or chlorophyll.\n",
                "\n"
            ]
        },
        {
            "cell_type": "code",
            "execution_count": null,
            "metadata": {},
            "outputs": [],
            "source": [
                "setwd(\"~/Downloads/Marine/raw_data/chl\")\n",
                "\n",
                "t1<-list.files(recursive=TRUE)\n",
                "#get only unique charater strings near end of string in new list\n",
                "t2<-unique(str_sub(t1,-6,-5))\n",
                "\n",
                "for (i in 1:length(unique(t2))){\n",
                "  txt_files=list.files(pattern=paste(\"*\\\\-\",unique(t2)[i],'.*\\\\.tif',sep=\"\"),recursive=TRUE)\n",
                "  stack<-terra::rast(txt_files)\n",
                "  filename<-\"chl\"\n",
                "  filen<-mean(stack)\n",
                "  mean_chl_1 <-project(filen,bath2)\n",
                "  wt2 <- matrix (data = 1, nrow = 33, ncol = 33)\n",
                "  mean_chl_2 <- focal(mean_chl_1, wt2, fun = mean, na.rm = TRUE, NAonly = TRUE)\n",
                "  mean_chl_3 <- raster::mask(mean_chl_2, bath2)\n",
                "  writeRaster(mean_chl_3,paste0(\"~/Downloads/Marine/monthly_predictors/\",unique(t2)[i],\"/chl.tif\"),overwrite=TRUE)\n",
                "}\n"
            ]
        },
        {
            "cell_type": "markdown",
            "metadata": {},
            "source": [
                "Next we generate monthly summaries of the gsla variable\n",
                "\n"
            ]
        },
        {
            "cell_type": "code",
            "execution_count": null,
            "metadata": {},
            "outputs": [],
            "source": [
                "setwd(\"~/Downloads/Marine/raw_data/gsla\")\n",
                "\n",
                "t1<-list.files(recursive=TRUE)\n",
                "#get only unique charater strings near end of string in new list\n",
                "t2<-unique(str_sub(t1,-6,-5))\n",
                "\n",
                "for (i in 1:length(unique(t2))){\n",
                "  txt_files=list.files(pattern=paste(\"*\\\\-\",unique(t2)[i],'.*\\\\.tif',sep=\"\"),recursive=TRUE)\n",
                "  stack<-terra::rast(txt_files)\n",
                "  filename<-\"gsla\"\n",
                "  filen<-mean(stack)\n",
                "  mean_gsla_1 <-project(filen,bath2)\n",
                "  wt2 <- matrix (data = 1, nrow = 15, ncol = 15)\n",
                "  mean_gsla_2 <- focal(mean_gsla_1, wt2, fun = mean, na.rm = TRUE, NAonly = TRUE)\n",
                "  mean_gsla_3 <- raster::mask(mean_gsla_2, bath2)\n",
                "  writeRaster(mean_gsla_3,paste0(\"~/Downloads/Marine/monthly_predictors/\",unique(t2)[i],\"/gsla.tif\"),overwrite=TRUE)\n",
                "}\n"
            ]
        },
        {
            "cell_type": "markdown",
            "metadata": {},
            "source": [
                "Then we create monthly summaries again for sea surface temperature\n",
                "\n"
            ]
        },
        {
            "cell_type": "code",
            "execution_count": null,
            "metadata": {},
            "outputs": [],
            "source": [
                "setwd(\"~/Downloads/Marine/raw_data/sst\")\n",
                "\n",
                "t1<-list.files(recursive=TRUE)\n",
                "#get only unique charater strings near end of string in new list\n",
                "t2<-unique(str_sub(t1,-6,-5))\n",
                "\n",
                "for (i in 1:length(unique(t2))){\n",
                "  txt_files=list.files(pattern=paste(\"*\\\\-\",unique(t2)[i],'.*\\\\.tif',sep=\"\"),recursive=TRUE)\n",
                "  stack<-rast(txt_files)\n",
                "  all_sst_2 <-project(stack,bath2)\n",
                "  all_sst_3 <- raster::mask(all_sst_2, bath2)\n",
                "  filen<- mean(all_sst_3)\n",
                "  wt2 <- matrix (data = 1, nrow = 35, ncol = 35)\n",
                "  mean_sst_2 <- focal(filen, wt2, fun = mean, na.rm = TRUE, NAonly = TRUE)\n",
                "  mean_sst_3 <- raster::mask(mean_sst_2, bath2)\n",
                "  writeRaster(mean_sst_3,paste0(\"~/Downloads/Marine/monthly_predictors/\",unique(t2)[i],\"/sst.tif\"),overwrite=TRUE)\n",
                "}\n"
            ]
        },
        {
            "cell_type": "markdown",
            "metadata": {},
            "source": [
                "And again for the vcur variable.\n",
                "\n"
            ]
        },
        {
            "cell_type": "code",
            "execution_count": null,
            "metadata": {},
            "outputs": [],
            "source": [
                "setwd(\"~/Downloads/Marine/raw_data/vcur\")\n",
                "\n",
                "t1<-list.files(recursive=TRUE)\n",
                "#get only unique charater strings near end of string in new list\n",
                "t2<-unique(str_sub(t1,-6,-5))\n",
                "\n",
                "for (i in 1:length(unique(t2))){\n",
                "  txt_files=list.files(pattern=paste(\"*\\\\-\",unique(t2)[i],'.*\\\\.tif',sep=\"\"),recursive=TRUE)\n",
                "  stack<-rast(txt_files)\n",
                "  filename<-\"vcur\"\n",
                "  filen<-mean(stack)\n",
                "  mean_vcur_1 <-project(filen,bath2)\n",
                "  wt2 <- matrix (data = 1, nrow = 15, ncol = 15)\n",
                "  mean_vcur_2 <- focal(mean_vcur_1, wt2, fun = mean, na.rm = TRUE, NAonly = TRUE)\n",
                "  mean_vcur_3 <- raster::mask(mean_vcur_2, bath2)\n",
                "  writeRaster(mean_vcur_3,paste0(\"~/Downloads/Marine/monthly_predictors/\",unique(t2)[i],\"/vcur.tif\"),overwrite=TRUE)\n",
                "}\n"
            ]
        },
        {
            "cell_type": "markdown",
            "metadata": {},
            "source": [
                "Next we generate a unique raster for each month of the year with all grid-cell values corresponding to the numeric month value.\n",
                "\n",
                "Then we create a base layer where each value is equal to one, then create a loop to generate monthly values.\n"
            ]
        },
        {
            "cell_type": "code",
            "execution_count": null,
            "metadata": {},
            "outputs": [],
            "source": [
                "base <- bath2/bath2\n",
                "\n",
                "setwd(\"~/Downloads/Marine/raw_data/vcur\")\n",
                "t1<-list.files(recursive=TRUE)\n",
                "t2<-unique(str_sub(t1,-6,-5))\n",
                "\n",
                "for (i in 1:length(unique(t2))){\n",
                "  month<- as.numeric(unique(t2)[i])\n",
                "  mo<- base*month\n",
                "  writeRaster(mo,paste0(\"~/Downloads/Marine/monthly_predictors/\",unique(t2)[i],\"/mo.tif\"),overwrite=TRUE)\n",
                "}\n"
            ]
        },
        {
            "cell_type": "markdown",
            "metadata": {},
            "source": [
                "The next steps will require some additional packages.\n",
                "\n"
            ]
        },
        {
            "cell_type": "code",
            "execution_count": null,
            "metadata": {},
            "outputs": [],
            "source": [
                "library(dismo)\n",
                "library(raster)\n",
                "library(sf)\n",
                "library(rJava)\n",
                "library(jpeg)\n",
                "require(stringr)\n"
            ]
        },
        {
            "cell_type": "markdown",
            "metadata": {},
            "source": "Next we add a couple of columns to our occurrence dataset.\n"
        },
        {
            "cell_type": "code",
            "execution_count": null,
            "metadata": {},
            "outputs": [],
            "source": [
                "YT_2$month <- sprintf(\"%02d\", as.numeric(YT_2$month))\n",
                "YT_2$mo <- as.factor(as.numeric(YT_2$month))\n",
                "head(YT_2)\n"
            ]
        },
        {
            "cell_type": "markdown",
            "metadata": {},
            "source": [
                "We then check if maxent.jar and associated files are available. Download the Maxent software to your working directory if needed.\n",
                "https://biodiversityinformatics.amnh.org/open_source/maxent/ \n"
            ]
        },
        {
            "cell_type": "code",
            "execution_count": null,
            "metadata": {},
            "outputs": [],
            "source": [
                "jar <- paste(system.file(package = \"dismo\"), \"/java/maxent.jar\", sep = '') \n",
                "if (file.exists(jar)) {\n",
                "  cat(\"can continue, maxent is available\")\n",
                "} else {\n",
                "  cat('cannot run this because maxent is not available')\n",
                "}\n"
            ]
        },
        {
            "cell_type": "markdown",
            "metadata": {},
            "source": "Now we are going to check for correlations in our variables using January data.  First we need to create a stack of January rasters.\n"
        },
        {
            "cell_type": "code",
            "execution_count": null,
            "metadata": {},
            "outputs": [],
            "source": [
                "setwd(\"~/Downloads/Marine/monthly_predictors/01\")\n",
                "rast_lst <- list.files(pattern='.tif$', all.files=TRUE)\n",
                "rast_lst<-rast_lst[-3]\n",
                "YT_env_vars <- raster::stack(rast_lst)\n",
                "crs(YT_env_vars)<-crs(bath)\n",
                "YT_env_vars\n"
            ]
        },
        {
            "cell_type": "markdown",
            "metadata": {},
            "source": "Now we will check for correlations in our environmental variables, assuming January is representative of other months.\n"
        },
        {
            "cell_type": "code",
            "execution_count": null,
            "metadata": {},
            "outputs": [],
            "source": [
                "panel.cor <- function(x, y, digits=2, prefix=\"\", cex.cor, ...)\n",
                "{\n",
                "  usr <- par(\"usr\"); on.exit(par(usr))\n",
                "  par(usr = c(0, 1, 0, 1))\n",
                "  r <- abs(cor(x, y, use=\"pairwise.complete.obs\"))\n",
                "  txt <- format(c(r, 0.123456789), digits=digits)[1]\n",
                "  txt <- paste(prefix, txt, sep=\"\")\n",
                "  if(missing(cex.cor)) cex.cor <- 0.8/strwidth(txt)\n",
                "  text(0.5, 0.5, txt, cex = cex.cor * r)\n",
                "}\n",
                "rpoints<-randomPoints(YT_env_vars,1000)\n",
                "samp<-raster::extract(YT_env_vars,rpoints)\n",
                "pairs(samp,lower.panel=panel.smooth,upper.panel=panel.cor)\n"
            ]
        },
        {
            "cell_type": "markdown",
            "metadata": {},
            "source": "Next do some data prep\n"
        },
        {
            "cell_type": "code",
            "execution_count": null,
            "metadata": {},
            "outputs": [],
            "source": [
                "x_YTKF<- YT_2$lon\n",
                "y_YTKF<-YT_2$lat\n",
                "xy_YTKF<-cbind(x_YTKF,y_YTKF)\n",
                "xy.sp_YTKF<-SpatialPoints(xy_YTKF)\n",
                "crs(xy.sp_YTKF) <- crs(YT_env_vars)\n",
                "crs(xy.sp_YTKF)\n",
                "\n",
                "plot(YT_env_vars[[1]])\n",
                "points(xy.sp_YTKF,pch=20,cex=0.2)\n",
                "\n",
                "mask_r <- YT_env_vars[[2]]\n",
                "ext <- raster::extent(YT_env_vars)\n"
            ]
        },
        {
            "cell_type": "markdown",
            "metadata": {},
            "source": [
                "Make some more directories\n",
                "\n"
            ]
        },
        {
            "cell_type": "code",
            "execution_count": null,
            "metadata": {},
            "outputs": [],
            "source": [
                "dir.create(\"data\",showWarnings = FALSE)\n",
                "dir.create(\"~/Downloads/Marine/data/env_dframe/\",showWarnings = FALSE)\n"
            ]
        },
        {
            "cell_type": "markdown",
            "metadata": {},
            "source": [
                "Next extract the data for each month in our dataframe from each month's environmental variables.\n",
                "\n"
            ]
        },
        {
            "cell_type": "code",
            "execution_count": null,
            "metadata": {},
            "outputs": [],
            "source": [
                "t1<-unique(YT_2$month)\n",
                "\n",
                "t1<-sort(t1)\n",
                "\n",
                "#defaultW <- getOption(\"warn\") \n",
                "\n",
                "#options(warn = -1) \n",
                "\n",
                "for (i in 1:length(unique(t1))){\n",
                "  subsetYT<-YT_2[which(YT_2$month==unique(t1)[i]), ]\n",
                "  longitude<-subsetYT$lon\n",
                "  latitude<-subsetYT$lat\n",
                "  xy<-cbind(longitude,latitude)\n",
                "  xy.sp<-SpatialPoints(xy)\n",
                "  raster::crs(xy.sp) <- raster::crs(YT_env_vars)\n",
                "  \n",
                "  chl<-raster(paste0(\"~/Downloads/Marine/monthly_predictors/\",unique(t2)[i],\"/chl.tif\"))\n",
                "  \n",
                "  gsla<-raster(paste0(\"~/Downloads/Marine/monthly_predictors/\",unique(t2)[i],\"/gsla.tif\"))\n",
                "  \n",
                "  mo<-raster(paste0(\"~/Downloads/Marine/monthly_predictors/\",unique(t2)[i],\"/mo.tif\"))\n",
                "  \n",
                "  sst<-raster(paste0(\"~/Downloads/Marine/monthly_predictors/\",unique(t2)[i],\"/sst.tif\"))\n",
                "  \n",
                "  vcur<-raster(paste0(\"~/Downloads/Marine/monthly_predictors/\",unique(t2)[i],\"/vcur.tif\"))\n",
                "  \n",
                "  EVstack<-raster::stack(chl,gsla,mo,sst,vcur)\n",
                "  raster::crs(EVstack) <- raster::crs(YT_env_vars)\n",
                "  \n",
                "  presEV <- as.data.frame(raster::extract(EVstack,xy.sp))\n",
                "  pres_p <- cbind(longitude,latitude,presEV)\n",
                "  pres_p$pres <- 1\n",
                "  \n",
                "  \n",
                "  rpoints<-as.data.frame(xyFromCell(bias, sample(which(!is.na(values(bias))), 2000, prob=values(bias)[!is.na(values(bias))])))\n",
                "  colnames(rpoints)<-c(\"longitude\",\"latitude\")\n",
                "  xy.bk<-SpatialPoints(rpoints)\n",
                "  \n",
                "  bkgEV <- as.data.frame(raster::extract(EVstack,xy.bk))\n",
                "  bkg_p <- cbind(rpoints,bkgEV)\n",
                "  bkg_p$pres <- 0\n",
                "  \n",
                "  dat1 <- rbind(pres_p,bkg_p)\n",
                "  write.csv(dat1,paste0(\"~/Downloads/Marine/data/env_dframe/env_\",unique(t2)[i],\".csv\"),overwrite=TRUE)\n",
                "}\n"
            ]
        },
        {
            "cell_type": "markdown",
            "metadata": {},
            "source": [
                "Next we combine all the files from the monthly data extractions\n",
                "\n"
            ]
        },
        {
            "cell_type": "code",
            "execution_count": null,
            "metadata": {},
            "outputs": [],
            "source": [
                "files <- list.files(\"~/Downloads/Marine/data/env_dframe/\")\n",
                "setwd(\"~/Downloads/Marine/data/env_dframe/\")\n",
                "\n",
                "data1 <- do.call(\"rbind\",lapply(files,read.csv,header=TRUE))\n",
                "data1$mo <- as.factor(data1$mo)\n",
                "pa<- data1$pres\n",
                "\n",
                "data1$pres<-NULL\n",
                "data1$X<-NULL\n",
                "data1$longitude<-NULL\n",
                "data1$latitude<-NULL\n",
                "\n",
                "write.csv(data1,\"~/Downloads/Marine/data/maxent_env_dat.csv\")\n",
                "write.csv(pa,\"~/Downloads/Marine/data/pa_vector.csv\")\n"
            ]
        },
        {
            "cell_type": "markdown",
            "metadata": {},
            "source": "Now we create one maxent model from all the months of data combined.\n"
        },
        {
            "cell_type": "code",
            "execution_count": null,
            "metadata": {},
            "outputs": [],
            "source": [
                "maxent_args <- c('removeduplicates=TRUE','jackknife=TRUE','responsecurves=TRUE','plots=TRUE','betamultiplier=3')\n",
                "Maxent_model1 <- dismo::maxent(x=data1,p=pa,path = \"results_April22\",args= maxent_args)\n"
            ]
        },
        {
            "cell_type": "markdown",
            "metadata": {},
            "source": "Plot response curves for the Maxent model, see the results_April22 folder for more results\n"
        },
        {
            "cell_type": "code",
            "execution_count": null,
            "metadata": {},
            "outputs": [],
            "source": [
                "response(Maxent_model1)\n",
                "\n"
            ]
        },
        {
            "cell_type": "markdown",
            "metadata": {},
            "source": "Now lets generate some monthly predictions based on this global model\n"
        },
        {
            "cell_type": "code",
            "execution_count": null,
            "metadata": {},
            "outputs": [],
            "source": [
                "for (i in 1:length(unique(t1))){\n",
                "  subsetYT<-YT_2[which(YT_2$month==unique(t1)[i]), ]\n",
                "  longitude<-subsetYT$lon\n",
                "  latitude<-subsetYT$lat\n",
                "  xy<-cbind(longitude,latitude)\n",
                "  xy.sp<-SpatialPoints(xy)\n",
                "  raster::crs(xy.sp) <- raster::crs(YT_env_vars)\n",
                "  \n",
                "  chl<-raster(paste0(\"~/Downloads/Marine/monthly_predictors/\",unique(t2)[i],\"/chl.tif\"))\n",
                "  \n",
                "  gsla<-raster(paste0(\"~/Downloads/Marine/monthly_predictors/\",unique(t2)[i],\"/gsla.tif\"))\n",
                "  \n",
                "  mo<-raster(paste0(\"~/Downloads/Marine/monthly_predictors/\",unique(t2)[i],\"/mo.tif\"))\n",
                "  \n",
                "  sst<-raster(paste0(\"~/Downloads/Marine/monthly_predictors/\",unique(t2)[i],\"/sst.tif\"))\n",
                "  \n",
                "  vcur<-raster(paste0(\"~/Downloads/Marine/monthly_predictors/\",unique(t2)[i],\"/vcur.tif\"))\n",
                "  \n",
                "  Vstack<-stack(chl,gsla,mo,sst,vcur)\n",
                "  raster::crs(EVstack) <- raster::crs(YT_env_vars)\n",
                "  \n",
                "  filenameM <- paste0(\"/results_April22/map_pred_\",unique(t1)[i],\".tif\")\n",
                "  map_predictions <- predict(Maxent_model1, Vstack,filename=paste0(getwd(),filenameM), args= c('outputformat=cloglog','outputgrids=TRUE','applythresholdrule=Maximum training sensitivity plus specificity'))\n",
                "  \n",
                "  jpeg(paste0(getwd(),\"/results_April22/YTKF_predicted\",unique(t1)[i],\".jpeg\"))\n",
                "  plot(map_predictions, main=paste0(\"Yellowtail Kingfish distribution month =\",unique(t1)[i]))\n",
                "  points(xy.sp,pch=20,cex=0.2)\n",
                "  dev.off()\n",
                "  \n",
                "  results<-read.csv(paste0(getwd(),\"/results_April22/maxentResults.csv\"))\n",
                "  \n",
                "  thresh<-results$Maximum.training.sensitivity.plus.specificity.area\n",
                "  m <- c(0, thresh, 0,  thresh, 1, 1)\n",
                "  reclass <- matrix(m, ncol= 3, byrow= TRUE)\n",
                "  rc <- reclassify(map_predictions, reclass)\n",
                "  \n",
                "  jpeg(paste0(getwd(),\"/results_April22/YTKF_thresholded\",unique(t1)[i],\".jpeg\"))\n",
                "  plot(rc, main=paste0(\"Yellowtail Kingfish distribution month =\",unique(t1)[i]))\n",
                "  points(xy.sp,pch=20,cex=0.2)\n",
                "  dev.off()\n",
                "}\n"
            ]
        },
        {
            "cell_type": "markdown",
            "metadata": {},
            "source": "\n"
        }
    ],
    "metadata": {
        "anaconda-cloud": "",
        "kernelspec": {
            "display_name": "R",
            "langauge": "R",
            "name": "ir"
        },
        "language_info": {
            "codemirror_mode": "r",
            "file_extension": ".r",
            "mimetype": "text/x-r-source",
            "name": "R",
            "pygments_lexer": "r",
            "version": "3.4.1"
        }
    },
    "nbformat": 4,
    "nbformat_minor": 1
}
